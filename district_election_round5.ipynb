{
 "cells": [
  {
   "cell_type": "code",
   "execution_count": 52,
   "metadata": {},
   "outputs": [],
   "source": [
    "import pandas as pd\n",
    "import numpy as np\n",
    "import platform\n",
    "import matplotlib.pyplot as plt\n",
    "\n",
    "path = 'c:/Windows/Fonts/malgun.ttf'\n",
    "from matplotlib import font_manager, rc\n",
    "\n",
    "font_name = font_manager.FontProperties(fname=path).get_name()\n",
    "\n",
    "plt.rcParams['axes.unicode_minus'] = False"
   ]
  },
  {
   "cell_type": "code",
   "execution_count": 53,
   "metadata": {},
   "outputs": [],
   "source": [
    "from selenium import webdriver\n",
    "import time"
   ]
  },
  {
   "cell_type": "code",
   "execution_count": 66,
   "metadata": {},
   "outputs": [],
   "source": [
    "driver = webdriver.Chrome('../driver/chromedriver/chromedriver.exe')\n",
    "driver.get(\"http://info.nec.go.kr/\")"
   ]
  },
  {
   "cell_type": "code",
   "execution_count": 67,
   "metadata": {},
   "outputs": [
    {
     "name": "stderr",
     "output_type": "stream",
     "text": [
      "c:\\users\\taehui lee\\anaconda3\\envs\\data_python\\lib\\site-packages\\ipykernel_launcher.py:1: DeprecationWarning: use driver.switch_to.default_content instead\n",
      "  \"\"\"Entry point for launching an IPython kernel.\n",
      "c:\\users\\taehui lee\\anaconda3\\envs\\data_python\\lib\\site-packages\\ipykernel_launcher.py:2: DeprecationWarning: use driver.switch_to.frame instead\n",
      "  \n"
     ]
    }
   ],
   "source": [
    "driver.switch_to_default_content()\n",
    "driver.switch_to_frame('main')"
   ]
  },
  {
   "cell_type": "code",
   "execution_count": 68,
   "metadata": {
    "scrolled": true
   },
   "outputs": [],
   "source": [
    "driver.find_element_by_xpath(\"\"\"//*[@id=\"header\"]/ul[1]/li[2]/a\"\"\").click()"
   ]
  },
  {
   "cell_type": "code",
   "execution_count": 69,
   "metadata": {},
   "outputs": [],
   "source": [
    "driver.find_element_by_xpath(\"\"\"//*[@id=\"presubmu\"]/li[4]/a\"\"\").click()"
   ]
  },
  {
   "cell_type": "code",
   "execution_count": 70,
   "metadata": {},
   "outputs": [],
   "source": [
    "make_xpath = \"\"\"//*[contains(text(), \"개표현황(읍면동별)\")]\"\"\"\n",
    "driver.find_elements_by_xpath(make_xpath)[1].click()"
   ]
  },
  {
   "cell_type": "code",
   "execution_count": 71,
   "metadata": {},
   "outputs": [],
   "source": [
    "driver.find_element_by_xpath(\"\"\"//*[@id=\"electionType4\"]\"\"\").click()"
   ]
  },
  {
   "cell_type": "code",
   "execution_count": 72,
   "metadata": {},
   "outputs": [
    {
     "data": {
      "text/plain": [
       "['제7회', '제6회', '제5회', '제4회', '제3회', '제2회', '제1회']"
      ]
     },
     "execution_count": 72,
     "metadata": {},
     "output_type": "execute_result"
    }
   ],
   "source": [
    "round_list_raw = driver.find_element_by_xpath(\"\"\"//*[@id=\"electionName\"]\"\"\")\n",
    "round_list = round_list_raw.find_elements_by_tag_name(\"option\")\n",
    "round_name_values = [option.text for option in round_list]\n",
    "round_names_values = round_name_values[1:]\n",
    "round_names_values"
   ]
  },
  {
   "cell_type": "code",
   "execution_count": 73,
   "metadata": {},
   "outputs": [],
   "source": [
    "element1 = driver.find_element_by_id(\"electionName\")\n",
    "element1.send_keys(round_names_values[2])  # 제 5회"
   ]
  },
  {
   "cell_type": "code",
   "execution_count": 74,
   "metadata": {},
   "outputs": [
    {
     "data": {
      "text/plain": [
       "['시·도지사선거',\n",
       " '구·시·군의장선거',\n",
       " '시·도의회의원선거',\n",
       " '구·시·군의회의원선거',\n",
       " '광역의원비례대표선거',\n",
       " '기초의원비례대표선거',\n",
       " '교육감선거',\n",
       " '교육의원선거']"
      ]
     },
     "execution_count": 74,
     "metadata": {},
     "output_type": "execute_result"
    }
   ],
   "source": [
    "code_list_raw = driver.find_element_by_xpath(\"\"\"//*[@id=\"electionCode\"]\"\"\")\n",
    "code_list = code_list_raw.find_elements_by_tag_name(\"option\")\n",
    "code_name_values = [option.text for option in code_list]\n",
    "code_names_values = code_name_values[1:]\n",
    "code_names_values"
   ]
  },
  {
   "cell_type": "code",
   "execution_count": 75,
   "metadata": {},
   "outputs": [],
   "source": [
    "element2 = driver.find_element_by_id(\"electionCode\")\n",
    "element2.send_keys(code_names_values[0])  # 시·도지사선거"
   ]
  },
  {
   "cell_type": "code",
   "execution_count": 76,
   "metadata": {},
   "outputs": [
    {
     "data": {
      "text/plain": [
       "['서울특별시',\n",
       " '부산광역시',\n",
       " '대구광역시',\n",
       " '인천광역시',\n",
       " '광주광역시',\n",
       " '대전광역시',\n",
       " '울산광역시',\n",
       " '경기도',\n",
       " '강원도',\n",
       " '충청북도',\n",
       " '충청남도',\n",
       " '전라북도',\n",
       " '전라남도',\n",
       " '경상북도',\n",
       " '경상남도',\n",
       " '제주특별자치도']"
      ]
     },
     "execution_count": 76,
     "metadata": {},
     "output_type": "execute_result"
    }
   ],
   "source": [
    "sido_list_raw = driver.find_element_by_xpath(\"\"\"//*[@id=\"cityCode\"]\"\"\")\n",
    "sido_list = sido_list_raw.find_elements_by_tag_name(\"option\")\n",
    "sido_names_values = [option.text for option in sido_list]\n",
    "sido_names_values = sido_names_values[1:]\n",
    "sido_names_values"
   ]
  },
  {
   "cell_type": "code",
   "execution_count": 77,
   "metadata": {},
   "outputs": [],
   "source": [
    "element3 = driver.find_element_by_id(\"cityCode\")\n",
    "element3.send_keys(sido_names_values[0])  # 서울특별시"
   ]
  },
  {
   "cell_type": "code",
   "execution_count": 78,
   "metadata": {
    "scrolled": true
   },
   "outputs": [
    {
     "data": {
      "text/plain": [
       "['종로구',\n",
       " '중구',\n",
       " '용산구',\n",
       " '성동구',\n",
       " '광진구',\n",
       " '동대문구',\n",
       " '중랑구',\n",
       " '성북구',\n",
       " '강북구',\n",
       " '도봉구',\n",
       " '노원구',\n",
       " '은평구',\n",
       " '서대문구',\n",
       " '마포구',\n",
       " '양천구',\n",
       " '강서구',\n",
       " '구로구',\n",
       " '금천구',\n",
       " '영등포구',\n",
       " '동작구',\n",
       " '관악구',\n",
       " '서초구',\n",
       " '강남구',\n",
       " '송파구',\n",
       " '강동구']"
      ]
     },
     "execution_count": 78,
     "metadata": {},
     "output_type": "execute_result"
    }
   ],
   "source": [
    "gusigun_list_raw = driver.find_element_by_xpath(\"\"\"//*[@id=\"townCode\"]\"\"\")\n",
    "gusigun_list = gusigun_list_raw.find_elements_by_tag_name(\"option\")\n",
    "gusigun_names_values = [option.text for option in gusigun_list]\n",
    "gusigun_names_values = gusigun_names_values[1:]\n",
    "gusigun_names_values"
   ]
  },
  {
   "cell_type": "code",
   "execution_count": 79,
   "metadata": {},
   "outputs": [],
   "source": [
    "element4 = driver.find_element_by_id(\"townCode\")\n",
    "element4.send_keys(gusigun_names_values[0])  # 종로구"
   ]
  },
  {
   "cell_type": "code",
   "execution_count": 80,
   "metadata": {},
   "outputs": [],
   "source": [
    "driver.find_element_by_xpath(\"\"\"//*[@id=\"searchBtn\"]\"\"\").click()"
   ]
  },
  {
   "cell_type": "code",
   "execution_count": 81,
   "metadata": {},
   "outputs": [],
   "source": [
    "from bs4 import BeautifulSoup\n",
    "\n",
    "html = driver.page_source\n",
    "soup = BeautifulSoup(html, 'html.parser')"
   ]
  },
  {
   "cell_type": "code",
   "execution_count": 82,
   "metadata": {
    "scrolled": true
   },
   "outputs": [
    {
     "data": {
      "text/plain": [
       "[<td class=\"alignR\">77,812</td>,\n",
       " <td class=\"alignR\">35,476</td>,\n",
       " <td class=\"alignR\">36,910</td>]"
      ]
     },
     "execution_count": 82,
     "metadata": {},
     "output_type": "execute_result"
    }
   ],
   "source": [
    "tmp = soup.find_all('td', 'alignR')\n",
    "tmp[1:4]"
   ]
  },
  {
   "cell_type": "code",
   "execution_count": 83,
   "metadata": {},
   "outputs": [
    {
     "name": "stderr",
     "output_type": "stream",
     "text": [
      "c:\\users\\taehui lee\\anaconda3\\envs\\data_python\\lib\\site-packages\\ipykernel_launcher.py:6: TqdmDeprecationWarning: This function will be removed in tqdm==5.0.0\n",
      "Please use `tqdm.notebook.tqdm` instead of `tqdm.tqdm_notebook`\n",
      "  \n"
     ]
    },
    {
     "data": {
      "application/vnd.jupyter.widget-view+json": {
       "model_id": "2c68deef035047dea194046cff998f44",
       "version_major": 2,
       "version_minor": 0
      },
      "text/plain": [
       "HBox(children=(FloatProgress(value=0.0, max=16.0), HTML(value='')))"
      ]
     },
     "metadata": {},
     "output_type": "display_data"
    },
    {
     "name": "stdout",
     "output_type": "stream",
     "text": [
      "\n"
     ]
    }
   ],
   "source": [
    "from tqdm import tqdm_notebook\n",
    "\n",
    "sido_name_list = []\n",
    "gusigun_name_list = []\n",
    "\n",
    "for sido_value in tqdm_notebook(sido_names_values):\n",
    "    element = driver.find_element_by_id(\"cityCode\")\n",
    "    element.send_keys(sido_value)\n",
    "\n",
    "    time.sleep(1)\n",
    "\n",
    "    gusigun_list_raw = driver.find_element_by_xpath(\"\"\"//*[@id=\"townCode\"]\"\"\")\n",
    "    gusigun_list = gusigun_list_raw.find_elements_by_tag_name(\"option\")\n",
    "    \n",
    "    gusigun_names_values = [option.text for option in gusigun_list]\n",
    "    gusigun_names_values = gusigun_names_values[1:]\n",
    "    \n",
    "    for gusigun_value in gusigun_names_values:\n",
    "        sido_name_list.append(sido_value)\n",
    "        gusigun_name_list.append(gusigun_value)"
   ]
  },
  {
   "cell_type": "code",
   "execution_count": 84,
   "metadata": {
    "scrolled": true
   },
   "outputs": [
    {
     "data": {
      "text/html": [
       "<div>\n",
       "<style scoped>\n",
       "    .dataframe tbody tr th:only-of-type {\n",
       "        vertical-align: middle;\n",
       "    }\n",
       "\n",
       "    .dataframe tbody tr th {\n",
       "        vertical-align: top;\n",
       "    }\n",
       "\n",
       "    .dataframe thead th {\n",
       "        text-align: right;\n",
       "    }\n",
       "</style>\n",
       "<table border=\"1\" class=\"dataframe\">\n",
       "  <thead>\n",
       "    <tr style=\"text-align: right;\">\n",
       "      <th></th>\n",
       "      <th>광역시도</th>\n",
       "      <th>시군</th>\n",
       "    </tr>\n",
       "  </thead>\n",
       "  <tbody>\n",
       "    <tr>\n",
       "      <th>0</th>\n",
       "      <td>서울특별시</td>\n",
       "      <td>종로구</td>\n",
       "    </tr>\n",
       "    <tr>\n",
       "      <th>1</th>\n",
       "      <td>서울특별시</td>\n",
       "      <td>중구</td>\n",
       "    </tr>\n",
       "    <tr>\n",
       "      <th>2</th>\n",
       "      <td>서울특별시</td>\n",
       "      <td>용산구</td>\n",
       "    </tr>\n",
       "    <tr>\n",
       "      <th>3</th>\n",
       "      <td>서울특별시</td>\n",
       "      <td>성동구</td>\n",
       "    </tr>\n",
       "    <tr>\n",
       "      <th>4</th>\n",
       "      <td>서울특별시</td>\n",
       "      <td>광진구</td>\n",
       "    </tr>\n",
       "    <tr>\n",
       "      <th>...</th>\n",
       "      <td>...</td>\n",
       "      <td>...</td>\n",
       "    </tr>\n",
       "    <tr>\n",
       "      <th>244</th>\n",
       "      <td>경상남도</td>\n",
       "      <td>산청군</td>\n",
       "    </tr>\n",
       "    <tr>\n",
       "      <th>245</th>\n",
       "      <td>경상남도</td>\n",
       "      <td>거창군</td>\n",
       "    </tr>\n",
       "    <tr>\n",
       "      <th>246</th>\n",
       "      <td>경상남도</td>\n",
       "      <td>합천군</td>\n",
       "    </tr>\n",
       "    <tr>\n",
       "      <th>247</th>\n",
       "      <td>제주특별자치도</td>\n",
       "      <td>제주시</td>\n",
       "    </tr>\n",
       "    <tr>\n",
       "      <th>248</th>\n",
       "      <td>제주특별자치도</td>\n",
       "      <td>서귀포시</td>\n",
       "    </tr>\n",
       "  </tbody>\n",
       "</table>\n",
       "<p>249 rows × 2 columns</p>\n",
       "</div>"
      ],
      "text/plain": [
       "        광역시도    시군\n",
       "0      서울특별시   종로구\n",
       "1      서울특별시    중구\n",
       "2      서울특별시   용산구\n",
       "3      서울특별시   성동구\n",
       "4      서울특별시   광진구\n",
       "..       ...   ...\n",
       "244     경상남도   산청군\n",
       "245     경상남도   거창군\n",
       "246     경상남도   합천군\n",
       "247  제주특별자치도   제주시\n",
       "248  제주특별자치도  서귀포시\n",
       "\n",
       "[249 rows x 2 columns]"
      ]
     },
     "execution_count": 84,
     "metadata": {},
     "output_type": "execute_result"
    }
   ],
   "source": [
    "election_result = pd.DataFrame({'광역시도':sido_name_list, \n",
    "                                '시군':gusigun_name_list})\n",
    "election_result"
   ]
  },
  {
   "cell_type": "code",
   "execution_count": 85,
   "metadata": {},
   "outputs": [],
   "source": [
    "def get_vote_info(n):\n",
    "    html = driver.page_source\n",
    "    soup = BeautifulSoup(html, 'lxml')\n",
    "    \n",
    "    tmp = soup.find_all('td', 'alignR')\n",
    "    tmp_values = [float(tmp_val.get_text().replace(',', '')) \n",
    "                 for tmp_val in tmp[1:4]]\n",
    "    \n",
    "    pop[n] = tmp_values[0]\n",
    "    hannara[n] = tmp_values[1]\n",
    "    minju[n] = tmp_values[2]\n",
    "    gita[n] = tmp_values[0] - tmp_values[1] - tmp_values[2]"
   ]
  },
  {
   "cell_type": "code",
   "execution_count": 86,
   "metadata": {},
   "outputs": [],
   "source": [
    "import numpy as np\n",
    "\n",
    "def fail_procedure(n):\n",
    "    pop[n] = np.nan\n",
    "    hannara[n] = np.nan\n",
    "    minju[n] = np.nan\n",
    "    gita[n] = np.nan"
   ]
  },
  {
   "cell_type": "code",
   "execution_count": 87,
   "metadata": {},
   "outputs": [
    {
     "data": {
      "text/plain": [
       "(249, 249, 249, 249)"
      ]
     },
     "execution_count": 87,
     "metadata": {},
     "output_type": "execute_result"
    }
   ],
   "source": [
    "pop = [np.nan]*len(election_result)\n",
    "hannara = [np.nan]*len(election_result)\n",
    "minju = [np.nan]*len(election_result)\n",
    "gita = [np.nan]*len(election_result)\n",
    "\n",
    "len(pop), len(hannara), len(minju), len(gita)"
   ]
  },
  {
   "cell_type": "code",
   "execution_count": 88,
   "metadata": {
    "scrolled": true
   },
   "outputs": [
    {
     "name": "stderr",
     "output_type": "stream",
     "text": [
      "c:\\users\\taehui lee\\anaconda3\\envs\\data_python\\lib\\site-packages\\ipykernel_launcher.py:1: TqdmDeprecationWarning: This function will be removed in tqdm==5.0.0\n",
      "Please use `tqdm.notebook.tqdm` instead of `tqdm.tqdm_notebook`\n",
      "  \"\"\"Entry point for launching an IPython kernel.\n"
     ]
    },
    {
     "data": {
      "application/vnd.jupyter.widget-view+json": {
       "model_id": "3d222be753974124aed2778fda567465",
       "version_major": 2,
       "version_minor": 0
      },
      "text/plain": [
       "HBox(children=(FloatProgress(value=0.0, max=249.0), HTML(value='')))"
      ]
     },
     "metadata": {},
     "output_type": "display_data"
    },
    {
     "name": "stdout",
     "output_type": "stream",
     "text": [
      "---Error---\n",
      "---Error---\n",
      "---Error---\n",
      "---Error---\n",
      "---Error---\n",
      "---Error---\n",
      "---Error---\n",
      "---Error---\n",
      "---Error---\n",
      "---Error---\n",
      "---Error---\n",
      "---Error---\n",
      "---Error---\n",
      "---Error---\n",
      "---Error---\n",
      "---Error---\n",
      "---Error---\n",
      "---Error---\n",
      "---Error---\n",
      "---Error---\n",
      "---Error---\n",
      "---Error---\n",
      "---Error---\n",
      "---Error---\n",
      "---Error---\n",
      "---Error---\n",
      "---Error---\n",
      "---Error---\n",
      "---Error---\n",
      "---Error---\n",
      "---Error---\n",
      "---Error---\n",
      "---Error---\n",
      "---Error---\n",
      "---Error---\n",
      "---Error---\n",
      "---Error---\n",
      "---Error---\n",
      "---Error---\n",
      "---Error---\n",
      "---Error---\n",
      "---Error---\n",
      "---Error---\n",
      "---Error---\n",
      "---Error---\n",
      "---Error---\n",
      "---Error---\n",
      "---Error---\n",
      "---Error---\n",
      "---Error---\n",
      "---Error---\n",
      "---Error---\n",
      "---Error---\n",
      "---Error---\n",
      "---Error---\n",
      "---Error---\n",
      "---Error---\n",
      "---Error---\n",
      "---Error---\n",
      "---Error---\n",
      "---Error---\n",
      "---Error---\n",
      "---Error---\n",
      "---Error---\n",
      "---Error---\n",
      "---Error---\n",
      "---Error---\n",
      "---Error---\n",
      "---Error---\n",
      "---Error---\n",
      "---Error---\n",
      "---Error---\n",
      "---Error---\n",
      "---Error---\n",
      "---Error---\n",
      "---Error---\n",
      "---Error---\n",
      "---Error---\n",
      "---Error---\n",
      "---Error---\n",
      "---Error---\n",
      "---Error---\n",
      "---Error---\n",
      "---Error---\n",
      "---Error---\n",
      "---Error---\n",
      "---Error---\n",
      "---Error---\n",
      "---Error---\n",
      "---Error---\n",
      "---Error---\n",
      "---Error---\n",
      "---Error---\n",
      "---Error---\n",
      "---Error---\n",
      "---Error---\n",
      "\n"
     ]
    }
   ],
   "source": [
    "for n in tqdm_notebook(election_result.index):\n",
    "    try:\n",
    "        element = driver.find_element_by_id(\"cityCode\")\n",
    "        element.send_keys(election_result['광역시도'][n])\n",
    "        \n",
    "        time.sleep(0.5)\n",
    "        \n",
    "        element = driver.find_element_by_id(\"townCode\")\n",
    "        element.send_keys(election_result['시군'][n])\n",
    "        \n",
    "        driver.find_element_by_xpath(\"\"\"//*[@id=\"spanSubmit\"]/input\"\"\").click()\n",
    "        \n",
    "        time.sleep(0.5)\n",
    "        \n",
    "        get_vote_info(n)\n",
    "        \n",
    "    except:\n",
    "        print('---Error---')\n",
    "        fail_procedure(n)"
   ]
  },
  {
   "cell_type": "code",
   "execution_count": 89,
   "metadata": {},
   "outputs": [
    {
     "data": {
      "text/html": [
       "<div>\n",
       "<style scoped>\n",
       "    .dataframe tbody tr th:only-of-type {\n",
       "        vertical-align: middle;\n",
       "    }\n",
       "\n",
       "    .dataframe tbody tr th {\n",
       "        vertical-align: top;\n",
       "    }\n",
       "\n",
       "    .dataframe thead th {\n",
       "        text-align: right;\n",
       "    }\n",
       "</style>\n",
       "<table border=\"1\" class=\"dataframe\">\n",
       "  <thead>\n",
       "    <tr style=\"text-align: right;\">\n",
       "      <th></th>\n",
       "      <th>광역시도</th>\n",
       "      <th>시군</th>\n",
       "      <th>pop</th>\n",
       "      <th>hannara</th>\n",
       "      <th>minju</th>\n",
       "      <th>gita</th>\n",
       "    </tr>\n",
       "  </thead>\n",
       "  <tbody>\n",
       "    <tr>\n",
       "      <th>0</th>\n",
       "      <td>서울특별시</td>\n",
       "      <td>종로구</td>\n",
       "      <td>77812.0</td>\n",
       "      <td>35476.0</td>\n",
       "      <td>36910.0</td>\n",
       "      <td>5426.0</td>\n",
       "    </tr>\n",
       "    <tr>\n",
       "      <th>1</th>\n",
       "      <td>서울특별시</td>\n",
       "      <td>중구</td>\n",
       "      <td>60763.0</td>\n",
       "      <td>28648.0</td>\n",
       "      <td>28410.0</td>\n",
       "      <td>3705.0</td>\n",
       "    </tr>\n",
       "    <tr>\n",
       "      <th>2</th>\n",
       "      <td>서울특별시</td>\n",
       "      <td>용산구</td>\n",
       "      <td>105005.0</td>\n",
       "      <td>53285.0</td>\n",
       "      <td>44706.0</td>\n",
       "      <td>7014.0</td>\n",
       "    </tr>\n",
       "    <tr>\n",
       "      <th>3</th>\n",
       "      <td>서울특별시</td>\n",
       "      <td>성동구</td>\n",
       "      <td>135277.0</td>\n",
       "      <td>63448.0</td>\n",
       "      <td>63966.0</td>\n",
       "      <td>7863.0</td>\n",
       "    </tr>\n",
       "    <tr>\n",
       "      <th>4</th>\n",
       "      <td>서울특별시</td>\n",
       "      <td>광진구</td>\n",
       "      <td>158963.0</td>\n",
       "      <td>72749.0</td>\n",
       "      <td>76420.0</td>\n",
       "      <td>9794.0</td>\n",
       "    </tr>\n",
       "  </tbody>\n",
       "</table>\n",
       "</div>"
      ],
      "text/plain": [
       "    광역시도   시군       pop  hannara    minju    gita\n",
       "0  서울특별시  종로구   77812.0  35476.0  36910.0  5426.0\n",
       "1  서울특별시   중구   60763.0  28648.0  28410.0  3705.0\n",
       "2  서울특별시  용산구  105005.0  53285.0  44706.0  7014.0\n",
       "3  서울특별시  성동구  135277.0  63448.0  63966.0  7863.0\n",
       "4  서울특별시  광진구  158963.0  72749.0  76420.0  9794.0"
      ]
     },
     "execution_count": 89,
     "metadata": {},
     "output_type": "execute_result"
    }
   ],
   "source": [
    "election_result['pop'] = pop\n",
    "election_result['hannara'] = hannara\n",
    "election_result['minju'] = minju\n",
    "election_result['gita'] = gita\n",
    "election_result.head()"
   ]
  },
  {
   "cell_type": "code",
   "execution_count": 90,
   "metadata": {
    "scrolled": true
   },
   "outputs": [
    {
     "name": "stderr",
     "output_type": "stream",
     "text": [
      "c:\\users\\taehui lee\\anaconda3\\envs\\data_python\\lib\\site-packages\\ipykernel_launcher.py:3: TqdmDeprecationWarning: This function will be removed in tqdm==5.0.0\n",
      "Please use `tqdm.notebook.tqdm` instead of `tqdm.tqdm_notebook`\n",
      "  This is separate from the ipykernel package so we can avoid doing imports until\n"
     ]
    },
    {
     "data": {
      "application/vnd.jupyter.widget-view+json": {
       "model_id": "f8b9f396a01540c7981d1745a58249ff",
       "version_major": 2,
       "version_minor": 0
      },
      "text/plain": [
       "HBox(children=(FloatProgress(value=0.0, max=96.0), HTML(value='')))"
      ]
     },
     "metadata": {},
     "output_type": "display_data"
    },
    {
     "name": "stdout",
     "output_type": "stream",
     "text": [
      "Error\n",
      "Error\n",
      "Error\n",
      "Error\n",
      "Error\n",
      "Error\n",
      "Error\n",
      "Error\n",
      "Error\n",
      "Error\n",
      "Error\n",
      "Error\n",
      "Error\n",
      "Error\n",
      "Error\n",
      "Error\n",
      "Error\n",
      "Error\n",
      "Error\n",
      "Error\n",
      "Error\n",
      "Error\n",
      "Error\n",
      "Error\n",
      "Error\n",
      "Error\n",
      "Error\n",
      "Error\n",
      "Error\n",
      "Error\n",
      "Error\n",
      "Error\n",
      "Error\n",
      "Error\n",
      "Error\n",
      "Error\n",
      "Error\n",
      "Error\n",
      "Error\n",
      "Error\n",
      "Error\n",
      "Error\n",
      "Error\n",
      "Error\n",
      "Error\n",
      "Error\n",
      "Error\n",
      "Error\n",
      "Error\n",
      "Error\n",
      "Error\n",
      "Error\n",
      "Error\n",
      "\n"
     ]
    }
   ],
   "source": [
    "re_try_index = election_result[election_result['pop'].isnull()].index\n",
    "\n",
    "for n in tqdm_notebook(re_try_index):\n",
    "    try:\n",
    "        element = driver.find_element_by_id(\"cityCode\")\n",
    "        element.send_keys(election_result['광역시도'][n])\n",
    "        \n",
    "        time.sleep(1)\n",
    "        \n",
    "        element = driver.find_element_by_id(\"townCode\")\n",
    "        element.send_keys(election_result['시군'][n])\n",
    "        \n",
    "        driver.find_element_by_xpath(\"\"\"//*[@id=\"spanSubmit\"]/input\"\"\").click()\n",
    "        \n",
    "        time.sleep(1)\n",
    "        \n",
    "        get_vote_info(n)\n",
    "    \n",
    "    except:\n",
    "        print('Error')\n",
    "        fail_procedure(n)"
   ]
  },
  {
   "cell_type": "code",
   "execution_count": 91,
   "metadata": {},
   "outputs": [
    {
     "data": {
      "text/html": [
       "<div>\n",
       "<style scoped>\n",
       "    .dataframe tbody tr th:only-of-type {\n",
       "        vertical-align: middle;\n",
       "    }\n",
       "\n",
       "    .dataframe tbody tr th {\n",
       "        vertical-align: top;\n",
       "    }\n",
       "\n",
       "    .dataframe thead th {\n",
       "        text-align: right;\n",
       "    }\n",
       "</style>\n",
       "<table border=\"1\" class=\"dataframe\">\n",
       "  <thead>\n",
       "    <tr style=\"text-align: right;\">\n",
       "      <th></th>\n",
       "      <th>광역시도</th>\n",
       "      <th>시군</th>\n",
       "      <th>pop</th>\n",
       "      <th>hannara</th>\n",
       "      <th>minju</th>\n",
       "      <th>gita</th>\n",
       "    </tr>\n",
       "  </thead>\n",
       "  <tbody>\n",
       "    <tr>\n",
       "      <th>0</th>\n",
       "      <td>서울특별시</td>\n",
       "      <td>종로구</td>\n",
       "      <td>77812.0</td>\n",
       "      <td>35476.0</td>\n",
       "      <td>36910.0</td>\n",
       "      <td>5426.0</td>\n",
       "    </tr>\n",
       "    <tr>\n",
       "      <th>1</th>\n",
       "      <td>서울특별시</td>\n",
       "      <td>중구</td>\n",
       "      <td>60763.0</td>\n",
       "      <td>28648.0</td>\n",
       "      <td>28410.0</td>\n",
       "      <td>3705.0</td>\n",
       "    </tr>\n",
       "    <tr>\n",
       "      <th>2</th>\n",
       "      <td>서울특별시</td>\n",
       "      <td>용산구</td>\n",
       "      <td>105005.0</td>\n",
       "      <td>53285.0</td>\n",
       "      <td>44706.0</td>\n",
       "      <td>7014.0</td>\n",
       "    </tr>\n",
       "    <tr>\n",
       "      <th>3</th>\n",
       "      <td>서울특별시</td>\n",
       "      <td>성동구</td>\n",
       "      <td>135277.0</td>\n",
       "      <td>63448.0</td>\n",
       "      <td>63966.0</td>\n",
       "      <td>7863.0</td>\n",
       "    </tr>\n",
       "    <tr>\n",
       "      <th>4</th>\n",
       "      <td>서울특별시</td>\n",
       "      <td>광진구</td>\n",
       "      <td>158963.0</td>\n",
       "      <td>72749.0</td>\n",
       "      <td>76420.0</td>\n",
       "      <td>9794.0</td>\n",
       "    </tr>\n",
       "  </tbody>\n",
       "</table>\n",
       "</div>"
      ],
      "text/plain": [
       "    광역시도   시군       pop  hannara    minju    gita\n",
       "0  서울특별시  종로구   77812.0  35476.0  36910.0  5426.0\n",
       "1  서울특별시   중구   60763.0  28648.0  28410.0  3705.0\n",
       "2  서울특별시  용산구  105005.0  53285.0  44706.0  7014.0\n",
       "3  서울특별시  성동구  135277.0  63448.0  63966.0  7863.0\n",
       "4  서울특별시  광진구  158963.0  72749.0  76420.0  9794.0"
      ]
     },
     "execution_count": 91,
     "metadata": {},
     "output_type": "execute_result"
    }
   ],
   "source": [
    "election_result['pop'] = pop\n",
    "election_result['hannara'] = hannara\n",
    "election_result['minju'] = minju\n",
    "election_result['gita'] = gita\n",
    "election_result.head()"
   ]
  },
  {
   "cell_type": "code",
   "execution_count": 92,
   "metadata": {
    "scrolled": true
   },
   "outputs": [
    {
     "name": "stderr",
     "output_type": "stream",
     "text": [
      "c:\\users\\taehui lee\\anaconda3\\envs\\data_python\\lib\\site-packages\\ipykernel_launcher.py:3: TqdmDeprecationWarning: This function will be removed in tqdm==5.0.0\n",
      "Please use `tqdm.notebook.tqdm` instead of `tqdm.tqdm_notebook`\n",
      "  This is separate from the ipykernel package so we can avoid doing imports until\n"
     ]
    },
    {
     "data": {
      "application/vnd.jupyter.widget-view+json": {
       "model_id": "b084ba38b2e74f96a1b5fc9d9b78597c",
       "version_major": 2,
       "version_minor": 0
      },
      "text/plain": [
       "HBox(children=(FloatProgress(value=0.0, max=53.0), HTML(value='')))"
      ]
     },
     "metadata": {},
     "output_type": "display_data"
    },
    {
     "name": "stdout",
     "output_type": "stream",
     "text": [
      "Error\n",
      "Error\n",
      "Error\n",
      "Error\n",
      "Error\n",
      "Error\n",
      "Error\n",
      "Error\n",
      "Error\n",
      "Error\n",
      "Error\n",
      "Error\n",
      "Error\n",
      "Error\n",
      "Error\n",
      "Error\n",
      "Error\n",
      "Error\n",
      "Error\n",
      "Error\n",
      "Error\n",
      "Error\n",
      "Error\n",
      "Error\n",
      "Error\n",
      "Error\n",
      "Error\n",
      "Error\n",
      "Error\n",
      "\n"
     ]
    }
   ],
   "source": [
    "re_try_index = election_result[election_result['pop'].isnull()].index\n",
    "\n",
    "for n in tqdm_notebook(re_try_index):\n",
    "    try:\n",
    "        element = driver.find_element_by_id(\"cityCode\")\n",
    "        element.send_keys(election_result['광역시도'][n])\n",
    "        \n",
    "        time.sleep(1)\n",
    "        \n",
    "        element = driver.find_element_by_id(\"townCode\")\n",
    "        element.send_keys(election_result['시군'][n])\n",
    "        \n",
    "        driver.find_element_by_xpath(\"\"\"//*[@id=\"spanSubmit\"]/input\"\"\").click()\n",
    "        \n",
    "        time.sleep(1)\n",
    "        \n",
    "        get_vote_info(n)\n",
    "    \n",
    "    except:\n",
    "        print('Error')\n",
    "        fail_procedure(n)"
   ]
  },
  {
   "cell_type": "code",
   "execution_count": 93,
   "metadata": {},
   "outputs": [
    {
     "data": {
      "text/html": [
       "<div>\n",
       "<style scoped>\n",
       "    .dataframe tbody tr th:only-of-type {\n",
       "        vertical-align: middle;\n",
       "    }\n",
       "\n",
       "    .dataframe tbody tr th {\n",
       "        vertical-align: top;\n",
       "    }\n",
       "\n",
       "    .dataframe thead th {\n",
       "        text-align: right;\n",
       "    }\n",
       "</style>\n",
       "<table border=\"1\" class=\"dataframe\">\n",
       "  <thead>\n",
       "    <tr style=\"text-align: right;\">\n",
       "      <th></th>\n",
       "      <th>광역시도</th>\n",
       "      <th>시군</th>\n",
       "      <th>pop</th>\n",
       "      <th>hannara</th>\n",
       "      <th>minju</th>\n",
       "      <th>gita</th>\n",
       "    </tr>\n",
       "  </thead>\n",
       "  <tbody>\n",
       "    <tr>\n",
       "      <th>0</th>\n",
       "      <td>서울특별시</td>\n",
       "      <td>종로구</td>\n",
       "      <td>77812.0</td>\n",
       "      <td>35476.0</td>\n",
       "      <td>36910.0</td>\n",
       "      <td>5426.0</td>\n",
       "    </tr>\n",
       "    <tr>\n",
       "      <th>1</th>\n",
       "      <td>서울특별시</td>\n",
       "      <td>중구</td>\n",
       "      <td>60763.0</td>\n",
       "      <td>28648.0</td>\n",
       "      <td>28410.0</td>\n",
       "      <td>3705.0</td>\n",
       "    </tr>\n",
       "    <tr>\n",
       "      <th>2</th>\n",
       "      <td>서울특별시</td>\n",
       "      <td>용산구</td>\n",
       "      <td>105005.0</td>\n",
       "      <td>53285.0</td>\n",
       "      <td>44706.0</td>\n",
       "      <td>7014.0</td>\n",
       "    </tr>\n",
       "    <tr>\n",
       "      <th>3</th>\n",
       "      <td>서울특별시</td>\n",
       "      <td>성동구</td>\n",
       "      <td>135277.0</td>\n",
       "      <td>63448.0</td>\n",
       "      <td>63966.0</td>\n",
       "      <td>7863.0</td>\n",
       "    </tr>\n",
       "    <tr>\n",
       "      <th>4</th>\n",
       "      <td>서울특별시</td>\n",
       "      <td>광진구</td>\n",
       "      <td>158963.0</td>\n",
       "      <td>72749.0</td>\n",
       "      <td>76420.0</td>\n",
       "      <td>9794.0</td>\n",
       "    </tr>\n",
       "  </tbody>\n",
       "</table>\n",
       "</div>"
      ],
      "text/plain": [
       "    광역시도   시군       pop  hannara    minju    gita\n",
       "0  서울특별시  종로구   77812.0  35476.0  36910.0  5426.0\n",
       "1  서울특별시   중구   60763.0  28648.0  28410.0  3705.0\n",
       "2  서울특별시  용산구  105005.0  53285.0  44706.0  7014.0\n",
       "3  서울특별시  성동구  135277.0  63448.0  63966.0  7863.0\n",
       "4  서울특별시  광진구  158963.0  72749.0  76420.0  9794.0"
      ]
     },
     "execution_count": 93,
     "metadata": {},
     "output_type": "execute_result"
    }
   ],
   "source": [
    "election_result['pop'] = pop\n",
    "election_result['hannara'] = hannara\n",
    "election_result['minju'] = minju\n",
    "election_result['gita'] = gita\n",
    "election_result.head()"
   ]
  },
  {
   "cell_type": "code",
   "execution_count": 94,
   "metadata": {},
   "outputs": [
    {
     "name": "stderr",
     "output_type": "stream",
     "text": [
      "c:\\users\\taehui lee\\anaconda3\\envs\\data_python\\lib\\site-packages\\ipykernel_launcher.py:3: TqdmDeprecationWarning: This function will be removed in tqdm==5.0.0\n",
      "Please use `tqdm.notebook.tqdm` instead of `tqdm.tqdm_notebook`\n",
      "  This is separate from the ipykernel package so we can avoid doing imports until\n"
     ]
    },
    {
     "data": {
      "application/vnd.jupyter.widget-view+json": {
       "model_id": "d7197efff4464fa49354d2588e99294b",
       "version_major": 2,
       "version_minor": 0
      },
      "text/plain": [
       "HBox(children=(FloatProgress(value=0.0, max=29.0), HTML(value='')))"
      ]
     },
     "metadata": {},
     "output_type": "display_data"
    },
    {
     "name": "stdout",
     "output_type": "stream",
     "text": [
      "Error\n",
      "Error\n",
      "Error\n",
      "Error\n",
      "Error\n",
      "Error\n",
      "Error\n",
      "Error\n",
      "Error\n",
      "Error\n",
      "Error\n",
      "\n"
     ]
    }
   ],
   "source": [
    "re_try_index = election_result[election_result['pop'].isnull()].index\n",
    "\n",
    "for n in tqdm_notebook(re_try_index):\n",
    "    try:\n",
    "        element = driver.find_element_by_id(\"cityCode\")\n",
    "        element.send_keys(election_result['광역시도'][n])\n",
    "        \n",
    "        time.sleep(1)\n",
    "        \n",
    "        element = driver.find_element_by_id(\"townCode\")\n",
    "        element.send_keys(election_result['시군'][n])\n",
    "        \n",
    "        driver.find_element_by_xpath(\"\"\"//*[@id=\"spanSubmit\"]/input\"\"\").click()\n",
    "        \n",
    "        time.sleep(1)\n",
    "        \n",
    "        get_vote_info(n)\n",
    "    \n",
    "    except:\n",
    "        print('Error')\n",
    "        fail_procedure(n)"
   ]
  },
  {
   "cell_type": "code",
   "execution_count": 95,
   "metadata": {
    "scrolled": true
   },
   "outputs": [
    {
     "name": "stderr",
     "output_type": "stream",
     "text": [
      "c:\\users\\taehui lee\\anaconda3\\envs\\data_python\\lib\\site-packages\\ipykernel_launcher.py:3: TqdmDeprecationWarning: This function will be removed in tqdm==5.0.0\n",
      "Please use `tqdm.notebook.tqdm` instead of `tqdm.tqdm_notebook`\n",
      "  This is separate from the ipykernel package so we can avoid doing imports until\n"
     ]
    },
    {
     "data": {
      "application/vnd.jupyter.widget-view+json": {
       "model_id": "695d675064e740b3b55ca844909fe2a1",
       "version_major": 2,
       "version_minor": 0
      },
      "text/plain": [
       "HBox(children=(FloatProgress(value=0.0, max=29.0), HTML(value='')))"
      ]
     },
     "metadata": {},
     "output_type": "display_data"
    },
    {
     "name": "stdout",
     "output_type": "stream",
     "text": [
      "Error\n",
      "Error\n",
      "Error\n",
      "Error\n",
      "Error\n",
      "Error\n",
      "Error\n",
      "Error\n",
      "Error\n",
      "Error\n",
      "Error\n",
      "\n"
     ]
    }
   ],
   "source": [
    "re_try_index = election_result[election_result['pop'].isnull()].index\n",
    "\n",
    "for n in tqdm_notebook(re_try_index):\n",
    "    try:\n",
    "        element = driver.find_element_by_id(\"cityCode\")\n",
    "        element.send_keys(election_result['광역시도'][n])\n",
    "        \n",
    "        time.sleep(1)\n",
    "        \n",
    "        element = driver.find_element_by_id(\"townCode\")\n",
    "        element.send_keys(election_result['시군'][n])\n",
    "        \n",
    "        driver.find_element_by_xpath(\"\"\"//*[@id=\"spanSubmit\"]/input\"\"\").click()\n",
    "        \n",
    "        time.sleep(1)\n",
    "        \n",
    "        get_vote_info(n)\n",
    "    \n",
    "    except:\n",
    "        print('Error')\n",
    "        fail_procedure(n)"
   ]
  },
  {
   "cell_type": "code",
   "execution_count": 96,
   "metadata": {},
   "outputs": [
    {
     "data": {
      "text/html": [
       "<div>\n",
       "<style scoped>\n",
       "    .dataframe tbody tr th:only-of-type {\n",
       "        vertical-align: middle;\n",
       "    }\n",
       "\n",
       "    .dataframe tbody tr th {\n",
       "        vertical-align: top;\n",
       "    }\n",
       "\n",
       "    .dataframe thead th {\n",
       "        text-align: right;\n",
       "    }\n",
       "</style>\n",
       "<table border=\"1\" class=\"dataframe\">\n",
       "  <thead>\n",
       "    <tr style=\"text-align: right;\">\n",
       "      <th></th>\n",
       "      <th>광역시도</th>\n",
       "      <th>시군</th>\n",
       "      <th>pop</th>\n",
       "      <th>hannara</th>\n",
       "      <th>minju</th>\n",
       "      <th>gita</th>\n",
       "    </tr>\n",
       "  </thead>\n",
       "  <tbody>\n",
       "    <tr>\n",
       "      <th>0</th>\n",
       "      <td>서울특별시</td>\n",
       "      <td>종로구</td>\n",
       "      <td>77812.0</td>\n",
       "      <td>35476.0</td>\n",
       "      <td>36910.0</td>\n",
       "      <td>5426.0</td>\n",
       "    </tr>\n",
       "    <tr>\n",
       "      <th>1</th>\n",
       "      <td>서울특별시</td>\n",
       "      <td>중구</td>\n",
       "      <td>60763.0</td>\n",
       "      <td>28648.0</td>\n",
       "      <td>28410.0</td>\n",
       "      <td>3705.0</td>\n",
       "    </tr>\n",
       "    <tr>\n",
       "      <th>2</th>\n",
       "      <td>서울특별시</td>\n",
       "      <td>용산구</td>\n",
       "      <td>105005.0</td>\n",
       "      <td>53285.0</td>\n",
       "      <td>44706.0</td>\n",
       "      <td>7014.0</td>\n",
       "    </tr>\n",
       "    <tr>\n",
       "      <th>3</th>\n",
       "      <td>서울특별시</td>\n",
       "      <td>성동구</td>\n",
       "      <td>135277.0</td>\n",
       "      <td>63448.0</td>\n",
       "      <td>63966.0</td>\n",
       "      <td>7863.0</td>\n",
       "    </tr>\n",
       "    <tr>\n",
       "      <th>4</th>\n",
       "      <td>서울특별시</td>\n",
       "      <td>광진구</td>\n",
       "      <td>158963.0</td>\n",
       "      <td>72749.0</td>\n",
       "      <td>76420.0</td>\n",
       "      <td>9794.0</td>\n",
       "    </tr>\n",
       "  </tbody>\n",
       "</table>\n",
       "</div>"
      ],
      "text/plain": [
       "    광역시도   시군       pop  hannara    minju    gita\n",
       "0  서울특별시  종로구   77812.0  35476.0  36910.0  5426.0\n",
       "1  서울특별시   중구   60763.0  28648.0  28410.0  3705.0\n",
       "2  서울특별시  용산구  105005.0  53285.0  44706.0  7014.0\n",
       "3  서울특별시  성동구  135277.0  63448.0  63966.0  7863.0\n",
       "4  서울특별시  광진구  158963.0  72749.0  76420.0  9794.0"
      ]
     },
     "execution_count": 96,
     "metadata": {},
     "output_type": "execute_result"
    }
   ],
   "source": [
    "election_result['pop'] = pop\n",
    "election_result['hannara'] = hannara\n",
    "election_result['minju'] = minju\n",
    "election_result['gita'] = gita\n",
    "election_result.head()"
   ]
  },
  {
   "cell_type": "code",
   "execution_count": 97,
   "metadata": {},
   "outputs": [
    {
     "name": "stderr",
     "output_type": "stream",
     "text": [
      "c:\\users\\taehui lee\\anaconda3\\envs\\data_python\\lib\\site-packages\\ipykernel_launcher.py:3: TqdmDeprecationWarning: This function will be removed in tqdm==5.0.0\n",
      "Please use `tqdm.notebook.tqdm` instead of `tqdm.tqdm_notebook`\n",
      "  This is separate from the ipykernel package so we can avoid doing imports until\n"
     ]
    },
    {
     "data": {
      "application/vnd.jupyter.widget-view+json": {
       "model_id": "346be39fb9ce47f28938340b6284a6a7",
       "version_major": 2,
       "version_minor": 0
      },
      "text/plain": [
       "HBox(children=(FloatProgress(value=0.0, max=11.0), HTML(value='')))"
      ]
     },
     "metadata": {},
     "output_type": "display_data"
    },
    {
     "name": "stdout",
     "output_type": "stream",
     "text": [
      "Error\n",
      "Error\n",
      "Error\n",
      "\n"
     ]
    }
   ],
   "source": [
    "re_try_index = election_result[election_result['pop'].isnull()].index\n",
    "\n",
    "for n in tqdm_notebook(re_try_index):\n",
    "    try:\n",
    "        element = driver.find_element_by_id(\"cityCode\")\n",
    "        element.send_keys(election_result['광역시도'][n])\n",
    "        \n",
    "        time.sleep(0.5)\n",
    "        \n",
    "        element = driver.find_element_by_id(\"townCode\")\n",
    "        element.send_keys(election_result['시군'][n])\n",
    "        \n",
    "        driver.find_element_by_xpath(\"\"\"//*[@id=\"spanSubmit\"]/input\"\"\").click()\n",
    "        \n",
    "        time.sleep(0.5)\n",
    "        \n",
    "        get_vote_info(n)\n",
    "        \n",
    "        time.sleep(0.5)\n",
    "    \n",
    "    except:\n",
    "        print('Error')\n",
    "        fail_procedure(n)"
   ]
  },
  {
   "cell_type": "code",
   "execution_count": 98,
   "metadata": {},
   "outputs": [
    {
     "data": {
      "text/html": [
       "<div>\n",
       "<style scoped>\n",
       "    .dataframe tbody tr th:only-of-type {\n",
       "        vertical-align: middle;\n",
       "    }\n",
       "\n",
       "    .dataframe tbody tr th {\n",
       "        vertical-align: top;\n",
       "    }\n",
       "\n",
       "    .dataframe thead th {\n",
       "        text-align: right;\n",
       "    }\n",
       "</style>\n",
       "<table border=\"1\" class=\"dataframe\">\n",
       "  <thead>\n",
       "    <tr style=\"text-align: right;\">\n",
       "      <th></th>\n",
       "      <th>광역시도</th>\n",
       "      <th>시군</th>\n",
       "      <th>pop</th>\n",
       "      <th>hannara</th>\n",
       "      <th>minju</th>\n",
       "      <th>gita</th>\n",
       "    </tr>\n",
       "  </thead>\n",
       "  <tbody>\n",
       "    <tr>\n",
       "      <th>0</th>\n",
       "      <td>서울특별시</td>\n",
       "      <td>종로구</td>\n",
       "      <td>77812.0</td>\n",
       "      <td>35476.0</td>\n",
       "      <td>36910.0</td>\n",
       "      <td>5426.0</td>\n",
       "    </tr>\n",
       "    <tr>\n",
       "      <th>1</th>\n",
       "      <td>서울특별시</td>\n",
       "      <td>중구</td>\n",
       "      <td>60763.0</td>\n",
       "      <td>28648.0</td>\n",
       "      <td>28410.0</td>\n",
       "      <td>3705.0</td>\n",
       "    </tr>\n",
       "    <tr>\n",
       "      <th>2</th>\n",
       "      <td>서울특별시</td>\n",
       "      <td>용산구</td>\n",
       "      <td>105005.0</td>\n",
       "      <td>53285.0</td>\n",
       "      <td>44706.0</td>\n",
       "      <td>7014.0</td>\n",
       "    </tr>\n",
       "    <tr>\n",
       "      <th>3</th>\n",
       "      <td>서울특별시</td>\n",
       "      <td>성동구</td>\n",
       "      <td>135277.0</td>\n",
       "      <td>63448.0</td>\n",
       "      <td>63966.0</td>\n",
       "      <td>7863.0</td>\n",
       "    </tr>\n",
       "    <tr>\n",
       "      <th>4</th>\n",
       "      <td>서울특별시</td>\n",
       "      <td>광진구</td>\n",
       "      <td>158963.0</td>\n",
       "      <td>72749.0</td>\n",
       "      <td>76420.0</td>\n",
       "      <td>9794.0</td>\n",
       "    </tr>\n",
       "  </tbody>\n",
       "</table>\n",
       "</div>"
      ],
      "text/plain": [
       "    광역시도   시군       pop  hannara    minju    gita\n",
       "0  서울특별시  종로구   77812.0  35476.0  36910.0  5426.0\n",
       "1  서울특별시   중구   60763.0  28648.0  28410.0  3705.0\n",
       "2  서울특별시  용산구  105005.0  53285.0  44706.0  7014.0\n",
       "3  서울특별시  성동구  135277.0  63448.0  63966.0  7863.0\n",
       "4  서울특별시  광진구  158963.0  72749.0  76420.0  9794.0"
      ]
     },
     "execution_count": 98,
     "metadata": {},
     "output_type": "execute_result"
    }
   ],
   "source": [
    "election_result['pop'] = pop\n",
    "election_result['hannara'] = hannara\n",
    "election_result['minju'] = minju\n",
    "election_result['gita'] = gita\n",
    "election_result.head()"
   ]
  },
  {
   "cell_type": "code",
   "execution_count": 99,
   "metadata": {},
   "outputs": [
    {
     "name": "stderr",
     "output_type": "stream",
     "text": [
      "c:\\users\\taehui lee\\anaconda3\\envs\\data_python\\lib\\site-packages\\ipykernel_launcher.py:3: TqdmDeprecationWarning: This function will be removed in tqdm==5.0.0\n",
      "Please use `tqdm.notebook.tqdm` instead of `tqdm.tqdm_notebook`\n",
      "  This is separate from the ipykernel package so we can avoid doing imports until\n"
     ]
    },
    {
     "data": {
      "application/vnd.jupyter.widget-view+json": {
       "model_id": "861efff8397f44a49607ecb11cccaaa9",
       "version_major": 2,
       "version_minor": 0
      },
      "text/plain": [
       "HBox(children=(FloatProgress(value=0.0, max=3.0), HTML(value='')))"
      ]
     },
     "metadata": {},
     "output_type": "display_data"
    },
    {
     "name": "stdout",
     "output_type": "stream",
     "text": [
      "Error\n",
      "\n"
     ]
    }
   ],
   "source": [
    "re_try_index = election_result[election_result['pop'].isnull()].index\n",
    "\n",
    "for n in tqdm_notebook(re_try_index):\n",
    "    try:\n",
    "        element = driver.find_element_by_id(\"cityCode\")\n",
    "        element.send_keys(election_result['광역시도'][n])\n",
    "        \n",
    "        time.sleep(0.5)\n",
    "        \n",
    "        element = driver.find_element_by_id(\"townCode\")\n",
    "        element.send_keys(election_result['시군'][n])\n",
    "        \n",
    "        driver.find_element_by_xpath(\"\"\"//*[@id=\"spanSubmit\"]/input\"\"\").click()\n",
    "        \n",
    "        time.sleep(0.5)\n",
    "        \n",
    "        get_vote_info(n)\n",
    "        \n",
    "        time.sleep(0.5)\n",
    "    \n",
    "    except:\n",
    "        print('Error')\n",
    "        fail_procedure(n)"
   ]
  },
  {
   "cell_type": "code",
   "execution_count": 100,
   "metadata": {},
   "outputs": [
    {
     "data": {
      "text/html": [
       "<div>\n",
       "<style scoped>\n",
       "    .dataframe tbody tr th:only-of-type {\n",
       "        vertical-align: middle;\n",
       "    }\n",
       "\n",
       "    .dataframe tbody tr th {\n",
       "        vertical-align: top;\n",
       "    }\n",
       "\n",
       "    .dataframe thead th {\n",
       "        text-align: right;\n",
       "    }\n",
       "</style>\n",
       "<table border=\"1\" class=\"dataframe\">\n",
       "  <thead>\n",
       "    <tr style=\"text-align: right;\">\n",
       "      <th></th>\n",
       "      <th>광역시도</th>\n",
       "      <th>시군</th>\n",
       "      <th>pop</th>\n",
       "      <th>hannara</th>\n",
       "      <th>minju</th>\n",
       "      <th>gita</th>\n",
       "    </tr>\n",
       "  </thead>\n",
       "  <tbody>\n",
       "    <tr>\n",
       "      <th>0</th>\n",
       "      <td>서울특별시</td>\n",
       "      <td>종로구</td>\n",
       "      <td>77812.0</td>\n",
       "      <td>35476.0</td>\n",
       "      <td>36910.0</td>\n",
       "      <td>5426.0</td>\n",
       "    </tr>\n",
       "    <tr>\n",
       "      <th>1</th>\n",
       "      <td>서울특별시</td>\n",
       "      <td>중구</td>\n",
       "      <td>60763.0</td>\n",
       "      <td>28648.0</td>\n",
       "      <td>28410.0</td>\n",
       "      <td>3705.0</td>\n",
       "    </tr>\n",
       "    <tr>\n",
       "      <th>2</th>\n",
       "      <td>서울특별시</td>\n",
       "      <td>용산구</td>\n",
       "      <td>105005.0</td>\n",
       "      <td>53285.0</td>\n",
       "      <td>44706.0</td>\n",
       "      <td>7014.0</td>\n",
       "    </tr>\n",
       "    <tr>\n",
       "      <th>3</th>\n",
       "      <td>서울특별시</td>\n",
       "      <td>성동구</td>\n",
       "      <td>135277.0</td>\n",
       "      <td>63448.0</td>\n",
       "      <td>63966.0</td>\n",
       "      <td>7863.0</td>\n",
       "    </tr>\n",
       "    <tr>\n",
       "      <th>4</th>\n",
       "      <td>서울특별시</td>\n",
       "      <td>광진구</td>\n",
       "      <td>158963.0</td>\n",
       "      <td>72749.0</td>\n",
       "      <td>76420.0</td>\n",
       "      <td>9794.0</td>\n",
       "    </tr>\n",
       "  </tbody>\n",
       "</table>\n",
       "</div>"
      ],
      "text/plain": [
       "    광역시도   시군       pop  hannara    minju    gita\n",
       "0  서울특별시  종로구   77812.0  35476.0  36910.0  5426.0\n",
       "1  서울특별시   중구   60763.0  28648.0  28410.0  3705.0\n",
       "2  서울특별시  용산구  105005.0  53285.0  44706.0  7014.0\n",
       "3  서울특별시  성동구  135277.0  63448.0  63966.0  7863.0\n",
       "4  서울특별시  광진구  158963.0  72749.0  76420.0  9794.0"
      ]
     },
     "execution_count": 100,
     "metadata": {},
     "output_type": "execute_result"
    }
   ],
   "source": [
    "election_result['pop'] = pop\n",
    "election_result['hannara'] = hannara\n",
    "election_result['minju'] = minju\n",
    "election_result['gita'] = gita\n",
    "election_result.head()"
   ]
  },
  {
   "cell_type": "code",
   "execution_count": 101,
   "metadata": {},
   "outputs": [
    {
     "name": "stderr",
     "output_type": "stream",
     "text": [
      "c:\\users\\taehui lee\\anaconda3\\envs\\data_python\\lib\\site-packages\\ipykernel_launcher.py:3: TqdmDeprecationWarning: This function will be removed in tqdm==5.0.0\n",
      "Please use `tqdm.notebook.tqdm` instead of `tqdm.tqdm_notebook`\n",
      "  This is separate from the ipykernel package so we can avoid doing imports until\n"
     ]
    },
    {
     "data": {
      "application/vnd.jupyter.widget-view+json": {
       "model_id": "2102c58771894577a9f847b818db0df1",
       "version_major": 2,
       "version_minor": 0
      },
      "text/plain": [
       "HBox(children=(FloatProgress(value=0.0, max=1.0), HTML(value='')))"
      ]
     },
     "metadata": {},
     "output_type": "display_data"
    },
    {
     "name": "stdout",
     "output_type": "stream",
     "text": [
      "Error\n",
      "\n"
     ]
    }
   ],
   "source": [
    "re_try_index = election_result[election_result['pop'].isnull()].index\n",
    "\n",
    "for n in tqdm_notebook(re_try_index):\n",
    "    try:\n",
    "        element = driver.find_element_by_id(\"cityCode\")\n",
    "        element.send_keys(election_result['광역시도'][n])\n",
    "        \n",
    "        time.sleep(0.5)\n",
    "        \n",
    "        element = driver.find_element_by_id(\"townCode\")\n",
    "        element.send_keys(election_result['시군'][n])\n",
    "        \n",
    "        driver.find_element_by_xpath(\"\"\"//*[@id=\"spanSubmit\"]/input\"\"\").click()\n",
    "        \n",
    "        time.sleep(0.5)\n",
    "        \n",
    "        get_vote_info(n)\n",
    "        \n",
    "        time.sleep(0.5)\n",
    "    \n",
    "    except:\n",
    "        print('Error')\n",
    "        fail_procedure(n)"
   ]
  },
  {
   "cell_type": "code",
   "execution_count": 102,
   "metadata": {},
   "outputs": [
    {
     "data": {
      "text/html": [
       "<div>\n",
       "<style scoped>\n",
       "    .dataframe tbody tr th:only-of-type {\n",
       "        vertical-align: middle;\n",
       "    }\n",
       "\n",
       "    .dataframe tbody tr th {\n",
       "        vertical-align: top;\n",
       "    }\n",
       "\n",
       "    .dataframe thead th {\n",
       "        text-align: right;\n",
       "    }\n",
       "</style>\n",
       "<table border=\"1\" class=\"dataframe\">\n",
       "  <thead>\n",
       "    <tr style=\"text-align: right;\">\n",
       "      <th></th>\n",
       "      <th>광역시도</th>\n",
       "      <th>시군</th>\n",
       "      <th>pop</th>\n",
       "      <th>hannara</th>\n",
       "      <th>minju</th>\n",
       "      <th>gita</th>\n",
       "    </tr>\n",
       "  </thead>\n",
       "  <tbody>\n",
       "    <tr>\n",
       "      <th>0</th>\n",
       "      <td>서울특별시</td>\n",
       "      <td>종로구</td>\n",
       "      <td>77812.0</td>\n",
       "      <td>35476.0</td>\n",
       "      <td>36910.0</td>\n",
       "      <td>5426.0</td>\n",
       "    </tr>\n",
       "    <tr>\n",
       "      <th>1</th>\n",
       "      <td>서울특별시</td>\n",
       "      <td>중구</td>\n",
       "      <td>60763.0</td>\n",
       "      <td>28648.0</td>\n",
       "      <td>28410.0</td>\n",
       "      <td>3705.0</td>\n",
       "    </tr>\n",
       "    <tr>\n",
       "      <th>2</th>\n",
       "      <td>서울특별시</td>\n",
       "      <td>용산구</td>\n",
       "      <td>105005.0</td>\n",
       "      <td>53285.0</td>\n",
       "      <td>44706.0</td>\n",
       "      <td>7014.0</td>\n",
       "    </tr>\n",
       "    <tr>\n",
       "      <th>3</th>\n",
       "      <td>서울특별시</td>\n",
       "      <td>성동구</td>\n",
       "      <td>135277.0</td>\n",
       "      <td>63448.0</td>\n",
       "      <td>63966.0</td>\n",
       "      <td>7863.0</td>\n",
       "    </tr>\n",
       "    <tr>\n",
       "      <th>4</th>\n",
       "      <td>서울특별시</td>\n",
       "      <td>광진구</td>\n",
       "      <td>158963.0</td>\n",
       "      <td>72749.0</td>\n",
       "      <td>76420.0</td>\n",
       "      <td>9794.0</td>\n",
       "    </tr>\n",
       "  </tbody>\n",
       "</table>\n",
       "</div>"
      ],
      "text/plain": [
       "    광역시도   시군       pop  hannara    minju    gita\n",
       "0  서울특별시  종로구   77812.0  35476.0  36910.0  5426.0\n",
       "1  서울특별시   중구   60763.0  28648.0  28410.0  3705.0\n",
       "2  서울특별시  용산구  105005.0  53285.0  44706.0  7014.0\n",
       "3  서울특별시  성동구  135277.0  63448.0  63966.0  7863.0\n",
       "4  서울특별시  광진구  158963.0  72749.0  76420.0  9794.0"
      ]
     },
     "execution_count": 102,
     "metadata": {},
     "output_type": "execute_result"
    }
   ],
   "source": [
    "election_result['pop'] = pop\n",
    "election_result['hannara'] = hannara\n",
    "election_result['minju'] = minju\n",
    "election_result['gita'] = gita\n",
    "election_result.head()"
   ]
  },
  {
   "cell_type": "code",
   "execution_count": null,
   "metadata": {},
   "outputs": [],
   "source": []
  },
  {
   "cell_type": "code",
   "execution_count": 103,
   "metadata": {},
   "outputs": [],
   "source": [
    "election_result.to_csv('./round07_election_result.csv', encoding='utf-8',  sep=',')"
   ]
  },
  {
   "cell_type": "code",
   "execution_count": null,
   "metadata": {},
   "outputs": [],
   "source": []
  }
 ],
 "metadata": {
  "kernelspec": {
   "display_name": "Python 3",
   "language": "python",
   "name": "python3"
  },
  "language_info": {
   "codemirror_mode": {
    "name": "ipython",
    "version": 3
   },
   "file_extension": ".py",
   "mimetype": "text/x-python",
   "name": "python",
   "nbconvert_exporter": "python",
   "pygments_lexer": "ipython3",
   "version": "3.6.10"
  }
 },
 "nbformat": 4,
 "nbformat_minor": 4
}
