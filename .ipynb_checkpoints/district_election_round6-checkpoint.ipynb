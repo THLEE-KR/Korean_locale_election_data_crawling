{
 "cells": [
  {
   "cell_type": "code",
   "execution_count": 32,
   "metadata": {},
   "outputs": [],
   "source": [
    "import pandas as pd\n",
    "import numpy as np\n",
    "import platform\n",
    "import matplotlib.pyplot as plt\n",
    "\n",
    "path = 'c:/Windows/Fonts/malgun.ttf'\n",
    "from matplotlib import font_manager, rc\n",
    "\n",
    "font_name = font_manager.FontProperties(fname=path).get_name()\n",
    "\n",
    "plt.rcParams['axes.unicode_minus'] = False"
   ]
  },
  {
   "cell_type": "code",
   "execution_count": 33,
   "metadata": {},
   "outputs": [],
   "source": [
    "from selenium import webdriver\n",
    "import time"
   ]
  },
  {
   "cell_type": "code",
   "execution_count": 124,
   "metadata": {},
   "outputs": [],
   "source": [
    "driver = webdriver.Chrome('../driver/chromedriver/chromedriver.exe')\n",
    "driver.get(\"http://info.nec.go.kr/\")"
   ]
  },
  {
   "cell_type": "code",
   "execution_count": 125,
   "metadata": {},
   "outputs": [
    {
     "name": "stderr",
     "output_type": "stream",
     "text": [
      "c:\\users\\taehui lee\\anaconda3\\envs\\data_python\\lib\\site-packages\\ipykernel_launcher.py:1: DeprecationWarning: use driver.switch_to.default_content instead\n",
      "  \"\"\"Entry point for launching an IPython kernel.\n",
      "c:\\users\\taehui lee\\anaconda3\\envs\\data_python\\lib\\site-packages\\ipykernel_launcher.py:2: DeprecationWarning: use driver.switch_to.frame instead\n",
      "  \n"
     ]
    }
   ],
   "source": [
    "driver.switch_to_default_content()\n",
    "driver.switch_to_frame('main')"
   ]
  },
  {
   "cell_type": "code",
   "execution_count": 126,
   "metadata": {
    "scrolled": true
   },
   "outputs": [],
   "source": [
    "driver.find_element_by_xpath(\"\"\"//*[@id=\"header\"]/ul[1]/li[2]/a\"\"\").click()"
   ]
  },
  {
   "cell_type": "code",
   "execution_count": 127,
   "metadata": {},
   "outputs": [],
   "source": [
    "driver.find_element_by_xpath(\"\"\"//*[@id=\"presubmu\"]/li[4]/a\"\"\").click()"
   ]
  },
  {
   "cell_type": "code",
   "execution_count": 128,
   "metadata": {},
   "outputs": [],
   "source": [
    "make_xpath = \"\"\"//*[contains(text(), \"개표현황(읍면동별)\")]\"\"\"\n",
    "driver.find_elements_by_xpath(make_xpath)[1].click()"
   ]
  },
  {
   "cell_type": "code",
   "execution_count": 129,
   "metadata": {},
   "outputs": [],
   "source": [
    "driver.find_element_by_xpath(\"\"\"//*[@id=\"electionType4\"]\"\"\").click()"
   ]
  },
  {
   "cell_type": "code",
   "execution_count": 130,
   "metadata": {},
   "outputs": [
    {
     "data": {
      "text/plain": [
       "['제7회', '제6회', '제5회', '제4회', '제3회', '제2회', '제1회']"
      ]
     },
     "execution_count": 130,
     "metadata": {},
     "output_type": "execute_result"
    }
   ],
   "source": [
    "round_list_raw = driver.find_element_by_xpath(\"\"\"//*[@id=\"electionName\"]\"\"\")\n",
    "round_list = round_list_raw.find_elements_by_tag_name(\"option\")\n",
    "round_name_values = [option.text for option in round_list]\n",
    "round_names_values = round_name_values[1:]\n",
    "round_names_values"
   ]
  },
  {
   "cell_type": "code",
   "execution_count": 131,
   "metadata": {},
   "outputs": [],
   "source": [
    "element1 = driver.find_element_by_id(\"electionName\")\n",
    "element1.send_keys(round_names_values[1])  # 제 6회"
   ]
  },
  {
   "cell_type": "code",
   "execution_count": 132,
   "metadata": {},
   "outputs": [
    {
     "data": {
      "text/plain": [
       "['시·도지사선거',\n",
       " '구·시·군의 장선거',\n",
       " '시·도의회의원선거',\n",
       " '구·시·군의회의원선거',\n",
       " '광역의원비례대표선거',\n",
       " '기초의원비례대표선거',\n",
       " '교육감선거',\n",
       " '교육의원선거']"
      ]
     },
     "execution_count": 132,
     "metadata": {},
     "output_type": "execute_result"
    }
   ],
   "source": [
    "code_list_raw = driver.find_element_by_xpath(\"\"\"//*[@id=\"electionCode\"]\"\"\")\n",
    "code_list = code_list_raw.find_elements_by_tag_name(\"option\")\n",
    "code_name_values = [option.text for option in code_list]\n",
    "code_names_values = code_name_values[1:]\n",
    "code_names_values"
   ]
  },
  {
   "cell_type": "code",
   "execution_count": 133,
   "metadata": {},
   "outputs": [],
   "source": [
    "element2 = driver.find_element_by_id(\"electionCode\")\n",
    "element2.send_keys(code_names_values[0])  # 시·도지사선거"
   ]
  },
  {
   "cell_type": "code",
   "execution_count": 134,
   "metadata": {},
   "outputs": [
    {
     "data": {
      "text/plain": [
       "['서울특별시',\n",
       " '부산광역시',\n",
       " '대구광역시',\n",
       " '인천광역시',\n",
       " '광주광역시',\n",
       " '대전광역시',\n",
       " '울산광역시',\n",
       " '세종특별자치시',\n",
       " '경기도',\n",
       " '강원도',\n",
       " '충청북도',\n",
       " '충청남도',\n",
       " '전라북도',\n",
       " '전라남도',\n",
       " '경상북도',\n",
       " '경상남도',\n",
       " '제주특별자치도']"
      ]
     },
     "execution_count": 134,
     "metadata": {},
     "output_type": "execute_result"
    }
   ],
   "source": [
    "sido_list_raw = driver.find_element_by_xpath(\"\"\"//*[@id=\"cityCode\"]\"\"\")\n",
    "sido_list = sido_list_raw.find_elements_by_tag_name(\"option\")\n",
    "sido_names_values = [option.text for option in sido_list]\n",
    "sido_names_values = sido_names_values[1:]\n",
    "sido_names_values"
   ]
  },
  {
   "cell_type": "code",
   "execution_count": 135,
   "metadata": {},
   "outputs": [],
   "source": [
    "element3 = driver.find_element_by_id(\"cityCode\")\n",
    "element3.send_keys(sido_names_values[0])  # 서울특별시"
   ]
  },
  {
   "cell_type": "code",
   "execution_count": 136,
   "metadata": {
    "scrolled": true
   },
   "outputs": [
    {
     "data": {
      "text/plain": [
       "['종로구',\n",
       " '중구',\n",
       " '용산구',\n",
       " '성동구',\n",
       " '광진구',\n",
       " '동대문구',\n",
       " '중랑구',\n",
       " '성북구',\n",
       " '강북구',\n",
       " '도봉구',\n",
       " '노원구',\n",
       " '은평구',\n",
       " '서대문구',\n",
       " '마포구',\n",
       " '양천구',\n",
       " '강서구',\n",
       " '구로구',\n",
       " '금천구',\n",
       " '영등포구',\n",
       " '동작구',\n",
       " '관악구',\n",
       " '서초구',\n",
       " '강남구',\n",
       " '송파구',\n",
       " '강동구']"
      ]
     },
     "execution_count": 136,
     "metadata": {},
     "output_type": "execute_result"
    }
   ],
   "source": [
    "gusigun_list_raw = driver.find_element_by_xpath(\"\"\"//*[@id=\"townCode\"]\"\"\")\n",
    "gusigun_list = gusigun_list_raw.find_elements_by_tag_name(\"option\")\n",
    "gusigun_names_values = [option.text for option in gusigun_list]\n",
    "gusigun_names_values = gusigun_names_values[1:]\n",
    "gusigun_names_values"
   ]
  },
  {
   "cell_type": "code",
   "execution_count": 137,
   "metadata": {},
   "outputs": [],
   "source": [
    "element4 = driver.find_element_by_id(\"townCode\")\n",
    "element4.send_keys(gusigun_names_values[0])  # 종로구"
   ]
  },
  {
   "cell_type": "code",
   "execution_count": 138,
   "metadata": {},
   "outputs": [],
   "source": [
    "driver.find_element_by_xpath(\"\"\"//*[@id=\"searchBtn\"]\"\"\").click()"
   ]
  },
  {
   "cell_type": "code",
   "execution_count": 139,
   "metadata": {},
   "outputs": [],
   "source": [
    "from bs4 import BeautifulSoup\n",
    "\n",
    "html = driver.page_source\n",
    "soup = BeautifulSoup(html, 'html.parser')"
   ]
  },
  {
   "cell_type": "code",
   "execution_count": 140,
   "metadata": {
    "scrolled": true
   },
   "outputs": [
    {
     "data": {
      "text/plain": [
       "[<td class=\"alignR\">81,195</td>,\n",
       " <td class=\"alignR\">41,148</td>,\n",
       " <td class=\"alignR\">18,777</td>]"
      ]
     },
     "execution_count": 140,
     "metadata": {},
     "output_type": "execute_result"
    }
   ],
   "source": [
    "tmp = soup.find_all('td', 'alignR')\n",
    "tmp[1:4]"
   ]
  },
  {
   "cell_type": "code",
   "execution_count": 146,
   "metadata": {},
   "outputs": [
    {
     "name": "stderr",
     "output_type": "stream",
     "text": [
      "c:\\users\\taehui lee\\anaconda3\\envs\\data_python\\lib\\site-packages\\ipykernel_launcher.py:6: TqdmDeprecationWarning: This function will be removed in tqdm==5.0.0\n",
      "Please use `tqdm.notebook.tqdm` instead of `tqdm.tqdm_notebook`\n",
      "  \n"
     ]
    },
    {
     "data": {
      "application/vnd.jupyter.widget-view+json": {
       "model_id": "249fda26ba8b4689836c7d764dd543c4",
       "version_major": 2,
       "version_minor": 0
      },
      "text/plain": [
       "HBox(children=(FloatProgress(value=0.0, max=17.0), HTML(value='')))"
      ]
     },
     "metadata": {},
     "output_type": "display_data"
    },
    {
     "name": "stdout",
     "output_type": "stream",
     "text": [
      "\n"
     ]
    }
   ],
   "source": [
    "from tqdm import tqdm_notebook\n",
    "\n",
    "sido_name_list = []\n",
    "gusigun_name_list = []\n",
    "\n",
    "for sido_value in tqdm_notebook(sido_names_values):\n",
    "    element = driver.find_element_by_id(\"cityCode\")\n",
    "    element.send_keys(sido_value)\n",
    "\n",
    "    time.sleep(1)\n",
    "\n",
    "    gusigun_list_raw = driver.find_element_by_xpath(\"\"\"//*[@id=\"townCode\"]\"\"\")\n",
    "    gusigun_list = gusigun_list_raw.find_elements_by_tag_name(\"option\")\n",
    "    \n",
    "    gusigun_names_values = [option.text for option in gusigun_list]\n",
    "    gusigun_names_values = gusigun_names_values[1:]\n",
    "    \n",
    "    for gusigun_value in gusigun_names_values:\n",
    "        sido_name_list.append(sido_value)\n",
    "        gusigun_name_list.append(gusigun_value)"
   ]
  },
  {
   "cell_type": "code",
   "execution_count": 150,
   "metadata": {
    "scrolled": true
   },
   "outputs": [
    {
     "data": {
      "text/html": [
       "<div>\n",
       "<style scoped>\n",
       "    .dataframe tbody tr th:only-of-type {\n",
       "        vertical-align: middle;\n",
       "    }\n",
       "\n",
       "    .dataframe tbody tr th {\n",
       "        vertical-align: top;\n",
       "    }\n",
       "\n",
       "    .dataframe thead th {\n",
       "        text-align: right;\n",
       "    }\n",
       "</style>\n",
       "<table border=\"1\" class=\"dataframe\">\n",
       "  <thead>\n",
       "    <tr style=\"text-align: right;\">\n",
       "      <th></th>\n",
       "      <th>광역시도</th>\n",
       "      <th>시군</th>\n",
       "    </tr>\n",
       "  </thead>\n",
       "  <tbody>\n",
       "    <tr>\n",
       "      <th>0</th>\n",
       "      <td>서울특별시</td>\n",
       "      <td>종로구</td>\n",
       "    </tr>\n",
       "    <tr>\n",
       "      <th>1</th>\n",
       "      <td>서울특별시</td>\n",
       "      <td>중구</td>\n",
       "    </tr>\n",
       "    <tr>\n",
       "      <th>2</th>\n",
       "      <td>서울특별시</td>\n",
       "      <td>용산구</td>\n",
       "    </tr>\n",
       "    <tr>\n",
       "      <th>3</th>\n",
       "      <td>서울특별시</td>\n",
       "      <td>성동구</td>\n",
       "    </tr>\n",
       "    <tr>\n",
       "      <th>4</th>\n",
       "      <td>서울특별시</td>\n",
       "      <td>광진구</td>\n",
       "    </tr>\n",
       "    <tr>\n",
       "      <th>...</th>\n",
       "      <td>...</td>\n",
       "      <td>...</td>\n",
       "    </tr>\n",
       "    <tr>\n",
       "      <th>245</th>\n",
       "      <td>경상남도</td>\n",
       "      <td>산청군</td>\n",
       "    </tr>\n",
       "    <tr>\n",
       "      <th>246</th>\n",
       "      <td>경상남도</td>\n",
       "      <td>거창군</td>\n",
       "    </tr>\n",
       "    <tr>\n",
       "      <th>247</th>\n",
       "      <td>경상남도</td>\n",
       "      <td>합천군</td>\n",
       "    </tr>\n",
       "    <tr>\n",
       "      <th>248</th>\n",
       "      <td>제주특별자치도</td>\n",
       "      <td>제주시</td>\n",
       "    </tr>\n",
       "    <tr>\n",
       "      <th>249</th>\n",
       "      <td>제주특별자치도</td>\n",
       "      <td>서귀포시</td>\n",
       "    </tr>\n",
       "  </tbody>\n",
       "</table>\n",
       "<p>250 rows × 2 columns</p>\n",
       "</div>"
      ],
      "text/plain": [
       "        광역시도    시군\n",
       "0      서울특별시   종로구\n",
       "1      서울특별시    중구\n",
       "2      서울특별시   용산구\n",
       "3      서울특별시   성동구\n",
       "4      서울특별시   광진구\n",
       "..       ...   ...\n",
       "245     경상남도   산청군\n",
       "246     경상남도   거창군\n",
       "247     경상남도   합천군\n",
       "248  제주특별자치도   제주시\n",
       "249  제주특별자치도  서귀포시\n",
       "\n",
       "[250 rows x 2 columns]"
      ]
     },
     "execution_count": 150,
     "metadata": {},
     "output_type": "execute_result"
    }
   ],
   "source": [
    "election_result = pd.DataFrame({'광역시도':sido_name_list, \n",
    "                                '시군':gusigun_name_list})\n",
    "election_result"
   ]
  },
  {
   "cell_type": "code",
   "execution_count": 151,
   "metadata": {},
   "outputs": [],
   "source": [
    "def get_vote_info(n):\n",
    "    html = driver.page_source\n",
    "    soup = BeautifulSoup(html, 'lxml')\n",
    "    \n",
    "    tmp = soup.find_all('td', 'alignR')\n",
    "    tmp_values = [float(tmp_val.get_text().replace(',', '')) \n",
    "                 for tmp_val in tmp[1:4]]\n",
    "    \n",
    "    pop[n] = tmp_values[0]\n",
    "    saenuri[n] = tmp_values[1]\n",
    "    minju[n] = tmp_values[2]\n",
    "    gita[n] = tmp_values[0] - tmp_values[1] - tmp_values[2]"
   ]
  },
  {
   "cell_type": "code",
   "execution_count": 152,
   "metadata": {},
   "outputs": [],
   "source": [
    "import numpy as np\n",
    "\n",
    "def fail_procedure(n):\n",
    "    pop[n] = np.nan\n",
    "    saenuri[n] = np.nan\n",
    "    minju[n] = np.nan\n",
    "    gita[n] = np.nan"
   ]
  },
  {
   "cell_type": "code",
   "execution_count": 154,
   "metadata": {},
   "outputs": [
    {
     "data": {
      "text/plain": [
       "(250, 250, 250, 250)"
      ]
     },
     "execution_count": 154,
     "metadata": {},
     "output_type": "execute_result"
    }
   ],
   "source": [
    "pop = [np.nan]*len(election_result)\n",
    "saenuri = [np.nan]*len(election_result)\n",
    "minju = [np.nan]*len(election_result)\n",
    "gita = [np.nan]*len(election_result)\n",
    "\n",
    "len(pop), len(minju), len(tonghap), len(gita)"
   ]
  },
  {
   "cell_type": "code",
   "execution_count": 156,
   "metadata": {
    "scrolled": true
   },
   "outputs": [
    {
     "name": "stderr",
     "output_type": "stream",
     "text": [
      "c:\\users\\taehui lee\\anaconda3\\envs\\data_python\\lib\\site-packages\\ipykernel_launcher.py:1: TqdmDeprecationWarning: This function will be removed in tqdm==5.0.0\n",
      "Please use `tqdm.notebook.tqdm` instead of `tqdm.tqdm_notebook`\n",
      "  \"\"\"Entry point for launching an IPython kernel.\n"
     ]
    },
    {
     "data": {
      "application/vnd.jupyter.widget-view+json": {
       "model_id": "f1f3914819944d0ba23dcd0cf010fa78",
       "version_major": 2,
       "version_minor": 0
      },
      "text/plain": [
       "HBox(children=(FloatProgress(value=0.0, max=250.0), HTML(value='')))"
      ]
     },
     "metadata": {},
     "output_type": "display_data"
    },
    {
     "name": "stdout",
     "output_type": "stream",
     "text": [
      "---Error---\n",
      "---Error---\n",
      "---Error---\n",
      "---Error---\n",
      "---Error---\n",
      "---Error---\n",
      "---Error---\n",
      "---Error---\n",
      "---Error---\n",
      "---Error---\n",
      "---Error---\n",
      "---Error---\n",
      "---Error---\n",
      "---Error---\n",
      "---Error---\n",
      "---Error---\n",
      "---Error---\n",
      "---Error---\n",
      "---Error---\n",
      "---Error---\n",
      "---Error---\n",
      "---Error---\n",
      "---Error---\n",
      "---Error---\n",
      "---Error---\n",
      "---Error---\n",
      "---Error---\n",
      "---Error---\n",
      "---Error---\n",
      "---Error---\n",
      "---Error---\n",
      "---Error---\n",
      "---Error---\n",
      "---Error---\n",
      "---Error---\n",
      "---Error---\n",
      "---Error---\n",
      "---Error---\n",
      "---Error---\n",
      "---Error---\n",
      "---Error---\n",
      "---Error---\n",
      "---Error---\n",
      "---Error---\n",
      "---Error---\n",
      "---Error---\n",
      "---Error---\n",
      "---Error---\n",
      "---Error---\n",
      "---Error---\n",
      "---Error---\n",
      "---Error---\n",
      "---Error---\n",
      "---Error---\n",
      "---Error---\n",
      "---Error---\n",
      "---Error---\n",
      "---Error---\n",
      "---Error---\n",
      "---Error---\n",
      "---Error---\n",
      "---Error---\n",
      "---Error---\n",
      "---Error---\n",
      "---Error---\n",
      "---Error---\n",
      "---Error---\n",
      "---Error---\n",
      "---Error---\n",
      "---Error---\n",
      "---Error---\n",
      "---Error---\n",
      "---Error---\n",
      "---Error---\n",
      "---Error---\n",
      "---Error---\n",
      "---Error---\n",
      "---Error---\n",
      "---Error---\n",
      "---Error---\n",
      "---Error---\n",
      "---Error---\n",
      "---Error---\n",
      "---Error---\n",
      "\n"
     ]
    }
   ],
   "source": [
    "for n in tqdm_notebook(election_result.index):\n",
    "    try:\n",
    "        element = driver.find_element_by_id(\"cityCode\")\n",
    "        element.send_keys(election_result['광역시도'][n])\n",
    "        \n",
    "        time.sleep(0.5)\n",
    "        \n",
    "        element = driver.find_element_by_id(\"townCode\")\n",
    "        element.send_keys(election_result['시군'][n])\n",
    "        \n",
    "        driver.find_element_by_xpath(\"\"\"//*[@id=\"spanSubmit\"]/input\"\"\").click()\n",
    "        \n",
    "        time.sleep(0.5)\n",
    "        \n",
    "        get_vote_info(n)\n",
    "        \n",
    "    except:\n",
    "        print('---Error---')\n",
    "        fail_procedure(n)"
   ]
  },
  {
   "cell_type": "code",
   "execution_count": 157,
   "metadata": {},
   "outputs": [
    {
     "data": {
      "text/html": [
       "<div>\n",
       "<style scoped>\n",
       "    .dataframe tbody tr th:only-of-type {\n",
       "        vertical-align: middle;\n",
       "    }\n",
       "\n",
       "    .dataframe tbody tr th {\n",
       "        vertical-align: top;\n",
       "    }\n",
       "\n",
       "    .dataframe thead th {\n",
       "        text-align: right;\n",
       "    }\n",
       "</style>\n",
       "<table border=\"1\" class=\"dataframe\">\n",
       "  <thead>\n",
       "    <tr style=\"text-align: right;\">\n",
       "      <th></th>\n",
       "      <th>광역시도</th>\n",
       "      <th>시군</th>\n",
       "      <th>pop</th>\n",
       "      <th>minju</th>\n",
       "      <th>tonghap</th>\n",
       "      <th>gita</th>\n",
       "    </tr>\n",
       "  </thead>\n",
       "  <tbody>\n",
       "    <tr>\n",
       "      <th>0</th>\n",
       "      <td>서울특별시</td>\n",
       "      <td>종로구</td>\n",
       "      <td>81195.0</td>\n",
       "      <td>41148.0</td>\n",
       "      <td>18777.0</td>\n",
       "      <td>21270.0</td>\n",
       "    </tr>\n",
       "    <tr>\n",
       "      <th>1</th>\n",
       "      <td>서울특별시</td>\n",
       "      <td>중구</td>\n",
       "      <td>66474.0</td>\n",
       "      <td>34243.0</td>\n",
       "      <td>15618.0</td>\n",
       "      <td>16613.0</td>\n",
       "    </tr>\n",
       "    <tr>\n",
       "      <th>2</th>\n",
       "      <td>서울특별시</td>\n",
       "      <td>용산구</td>\n",
       "      <td>116054.0</td>\n",
       "      <td>53964.0</td>\n",
       "      <td>31073.0</td>\n",
       "      <td>31017.0</td>\n",
       "    </tr>\n",
       "    <tr>\n",
       "      <th>3</th>\n",
       "      <td>서울특별시</td>\n",
       "      <td>성동구</td>\n",
       "      <td>157863.0</td>\n",
       "      <td>84106.0</td>\n",
       "      <td>34878.0</td>\n",
       "      <td>38879.0</td>\n",
       "    </tr>\n",
       "    <tr>\n",
       "      <th>4</th>\n",
       "      <td>서울특별시</td>\n",
       "      <td>광진구</td>\n",
       "      <td>180373.0</td>\n",
       "      <td>99366.0</td>\n",
       "      <td>38606.0</td>\n",
       "      <td>42401.0</td>\n",
       "    </tr>\n",
       "  </tbody>\n",
       "</table>\n",
       "</div>"
      ],
      "text/plain": [
       "    광역시도   시군       pop    minju  tonghap     gita\n",
       "0  서울특별시  종로구   81195.0  41148.0  18777.0  21270.0\n",
       "1  서울특별시   중구   66474.0  34243.0  15618.0  16613.0\n",
       "2  서울특별시  용산구  116054.0  53964.0  31073.0  31017.0\n",
       "3  서울특별시  성동구  157863.0  84106.0  34878.0  38879.0\n",
       "4  서울특별시  광진구  180373.0  99366.0  38606.0  42401.0"
      ]
     },
     "execution_count": 157,
     "metadata": {},
     "output_type": "execute_result"
    }
   ],
   "source": [
    "election_result['pop'] = pop\n",
    "election_result['saenuri'] = saenuri\n",
    "election_result['minju'] = minju\n",
    "election_result['gita'] = gita\n",
    "election_result.head()"
   ]
  },
  {
   "cell_type": "code",
   "execution_count": 158,
   "metadata": {
    "scrolled": true
   },
   "outputs": [
    {
     "name": "stderr",
     "output_type": "stream",
     "text": [
      "c:\\users\\taehui lee\\anaconda3\\envs\\data_python\\lib\\site-packages\\ipykernel_launcher.py:3: TqdmDeprecationWarning: This function will be removed in tqdm==5.0.0\n",
      "Please use `tqdm.notebook.tqdm` instead of `tqdm.tqdm_notebook`\n",
      "  This is separate from the ipykernel package so we can avoid doing imports until\n"
     ]
    },
    {
     "data": {
      "application/vnd.jupyter.widget-view+json": {
       "model_id": "b393eaca5b2d4e0bb8098f7913bd5cb4",
       "version_major": 2,
       "version_minor": 0
      },
      "text/plain": [
       "HBox(children=(FloatProgress(value=0.0, max=84.0), HTML(value='')))"
      ]
     },
     "metadata": {},
     "output_type": "display_data"
    },
    {
     "name": "stdout",
     "output_type": "stream",
     "text": [
      "Error\n",
      "Error\n",
      "Error\n",
      "Error\n",
      "Error\n",
      "Error\n",
      "Error\n",
      "Error\n",
      "Error\n",
      "Error\n",
      "Error\n",
      "Error\n",
      "Error\n",
      "Error\n",
      "Error\n",
      "Error\n",
      "Error\n",
      "Error\n",
      "Error\n",
      "Error\n",
      "Error\n",
      "Error\n",
      "Error\n",
      "Error\n",
      "Error\n",
      "Error\n",
      "Error\n",
      "Error\n",
      "Error\n",
      "Error\n",
      "Error\n",
      "Error\n",
      "Error\n",
      "Error\n",
      "Error\n",
      "Error\n",
      "Error\n",
      "Error\n",
      "Error\n",
      "Error\n",
      "Error\n",
      "\n"
     ]
    }
   ],
   "source": [
    "re_try_index = election_result[election_result['pop'].isnull()].index\n",
    "\n",
    "for n in tqdm_notebook(re_try_index):\n",
    "    try:\n",
    "        element = driver.find_element_by_id(\"cityCode\")\n",
    "        element.send_keys(election_result['광역시도'][n])\n",
    "        \n",
    "        time.sleep(1)\n",
    "        \n",
    "        element = driver.find_element_by_id(\"townCode\")\n",
    "        element.send_keys(election_result['시군'][n])\n",
    "        \n",
    "        driver.find_element_by_xpath(\"\"\"//*[@id=\"spanSubmit\"]/input\"\"\").click()\n",
    "        \n",
    "        time.sleep(1)\n",
    "        \n",
    "        get_vote_info(n)\n",
    "    \n",
    "    except:\n",
    "        print('Error')\n",
    "        fail_procedure(n)"
   ]
  },
  {
   "cell_type": "code",
   "execution_count": 160,
   "metadata": {},
   "outputs": [
    {
     "data": {
      "text/html": [
       "<div>\n",
       "<style scoped>\n",
       "    .dataframe tbody tr th:only-of-type {\n",
       "        vertical-align: middle;\n",
       "    }\n",
       "\n",
       "    .dataframe tbody tr th {\n",
       "        vertical-align: top;\n",
       "    }\n",
       "\n",
       "    .dataframe thead th {\n",
       "        text-align: right;\n",
       "    }\n",
       "</style>\n",
       "<table border=\"1\" class=\"dataframe\">\n",
       "  <thead>\n",
       "    <tr style=\"text-align: right;\">\n",
       "      <th></th>\n",
       "      <th>광역시도</th>\n",
       "      <th>시군</th>\n",
       "      <th>pop</th>\n",
       "      <th>minju</th>\n",
       "      <th>tonghap</th>\n",
       "      <th>gita</th>\n",
       "    </tr>\n",
       "  </thead>\n",
       "  <tbody>\n",
       "    <tr>\n",
       "      <th>0</th>\n",
       "      <td>서울특별시</td>\n",
       "      <td>종로구</td>\n",
       "      <td>81195.0</td>\n",
       "      <td>41148.0</td>\n",
       "      <td>18777.0</td>\n",
       "      <td>21270.0</td>\n",
       "    </tr>\n",
       "    <tr>\n",
       "      <th>1</th>\n",
       "      <td>서울특별시</td>\n",
       "      <td>중구</td>\n",
       "      <td>66474.0</td>\n",
       "      <td>34243.0</td>\n",
       "      <td>15618.0</td>\n",
       "      <td>16613.0</td>\n",
       "    </tr>\n",
       "    <tr>\n",
       "      <th>2</th>\n",
       "      <td>서울특별시</td>\n",
       "      <td>용산구</td>\n",
       "      <td>116054.0</td>\n",
       "      <td>53964.0</td>\n",
       "      <td>31073.0</td>\n",
       "      <td>31017.0</td>\n",
       "    </tr>\n",
       "    <tr>\n",
       "      <th>3</th>\n",
       "      <td>서울특별시</td>\n",
       "      <td>성동구</td>\n",
       "      <td>157863.0</td>\n",
       "      <td>84106.0</td>\n",
       "      <td>34878.0</td>\n",
       "      <td>38879.0</td>\n",
       "    </tr>\n",
       "    <tr>\n",
       "      <th>4</th>\n",
       "      <td>서울특별시</td>\n",
       "      <td>광진구</td>\n",
       "      <td>180373.0</td>\n",
       "      <td>99366.0</td>\n",
       "      <td>38606.0</td>\n",
       "      <td>42401.0</td>\n",
       "    </tr>\n",
       "  </tbody>\n",
       "</table>\n",
       "</div>"
      ],
      "text/plain": [
       "    광역시도   시군       pop    minju  tonghap     gita\n",
       "0  서울특별시  종로구   81195.0  41148.0  18777.0  21270.0\n",
       "1  서울특별시   중구   66474.0  34243.0  15618.0  16613.0\n",
       "2  서울특별시  용산구  116054.0  53964.0  31073.0  31017.0\n",
       "3  서울특별시  성동구  157863.0  84106.0  34878.0  38879.0\n",
       "4  서울특별시  광진구  180373.0  99366.0  38606.0  42401.0"
      ]
     },
     "execution_count": 160,
     "metadata": {},
     "output_type": "execute_result"
    }
   ],
   "source": [
    "election_result['pop'] = pop\n",
    "election_result['saenuri'] = saenuri\n",
    "election_result['minju'] = minju\n",
    "election_result['gita'] = gita\n",
    "election_result.head()"
   ]
  },
  {
   "cell_type": "code",
   "execution_count": 161,
   "metadata": {
    "scrolled": true
   },
   "outputs": [
    {
     "name": "stderr",
     "output_type": "stream",
     "text": [
      "c:\\users\\taehui lee\\anaconda3\\envs\\data_python\\lib\\site-packages\\ipykernel_launcher.py:3: TqdmDeprecationWarning: This function will be removed in tqdm==5.0.0\n",
      "Please use `tqdm.notebook.tqdm` instead of `tqdm.tqdm_notebook`\n",
      "  This is separate from the ipykernel package so we can avoid doing imports until\n"
     ]
    },
    {
     "data": {
      "application/vnd.jupyter.widget-view+json": {
       "model_id": "d700c63a0c7646419dc0c9b771150f03",
       "version_major": 2,
       "version_minor": 0
      },
      "text/plain": [
       "HBox(children=(FloatProgress(value=0.0, max=41.0), HTML(value='')))"
      ]
     },
     "metadata": {},
     "output_type": "display_data"
    },
    {
     "name": "stdout",
     "output_type": "stream",
     "text": [
      "Error\n",
      "Error\n",
      "Error\n",
      "Error\n",
      "Error\n",
      "Error\n",
      "Error\n",
      "Error\n",
      "Error\n",
      "Error\n",
      "Error\n",
      "Error\n",
      "Error\n",
      "Error\n",
      "Error\n",
      "Error\n",
      "Error\n",
      "Error\n",
      "Error\n",
      "Error\n",
      "\n"
     ]
    }
   ],
   "source": [
    "re_try_index = election_result[election_result['pop'].isnull()].index\n",
    "\n",
    "for n in tqdm_notebook(re_try_index):\n",
    "    try:\n",
    "        element = driver.find_element_by_id(\"cityCode\")\n",
    "        element.send_keys(election_result['광역시도'][n])\n",
    "        \n",
    "        time.sleep(2)\n",
    "        \n",
    "        element = driver.find_element_by_id(\"townCode\")\n",
    "        element.send_keys(election_result['시군'][n])\n",
    "        \n",
    "        driver.find_element_by_xpath(\"\"\"//*[@id=\"spanSubmit\"]/input\"\"\").click()\n",
    "        \n",
    "        time.sleep(2)\n",
    "        \n",
    "        get_vote_info(n)\n",
    "    \n",
    "    except:\n",
    "        print('Error')\n",
    "        fail_procedure(n)"
   ]
  },
  {
   "cell_type": "code",
   "execution_count": 162,
   "metadata": {},
   "outputs": [
    {
     "data": {
      "text/html": [
       "<div>\n",
       "<style scoped>\n",
       "    .dataframe tbody tr th:only-of-type {\n",
       "        vertical-align: middle;\n",
       "    }\n",
       "\n",
       "    .dataframe tbody tr th {\n",
       "        vertical-align: top;\n",
       "    }\n",
       "\n",
       "    .dataframe thead th {\n",
       "        text-align: right;\n",
       "    }\n",
       "</style>\n",
       "<table border=\"1\" class=\"dataframe\">\n",
       "  <thead>\n",
       "    <tr style=\"text-align: right;\">\n",
       "      <th></th>\n",
       "      <th>광역시도</th>\n",
       "      <th>시군</th>\n",
       "      <th>pop</th>\n",
       "      <th>minju</th>\n",
       "      <th>tonghap</th>\n",
       "      <th>gita</th>\n",
       "    </tr>\n",
       "  </thead>\n",
       "  <tbody>\n",
       "    <tr>\n",
       "      <th>0</th>\n",
       "      <td>서울특별시</td>\n",
       "      <td>종로구</td>\n",
       "      <td>81195.0</td>\n",
       "      <td>41148.0</td>\n",
       "      <td>18777.0</td>\n",
       "      <td>21270.0</td>\n",
       "    </tr>\n",
       "    <tr>\n",
       "      <th>1</th>\n",
       "      <td>서울특별시</td>\n",
       "      <td>중구</td>\n",
       "      <td>66474.0</td>\n",
       "      <td>34243.0</td>\n",
       "      <td>15618.0</td>\n",
       "      <td>16613.0</td>\n",
       "    </tr>\n",
       "    <tr>\n",
       "      <th>2</th>\n",
       "      <td>서울특별시</td>\n",
       "      <td>용산구</td>\n",
       "      <td>116054.0</td>\n",
       "      <td>53964.0</td>\n",
       "      <td>31073.0</td>\n",
       "      <td>31017.0</td>\n",
       "    </tr>\n",
       "    <tr>\n",
       "      <th>3</th>\n",
       "      <td>서울특별시</td>\n",
       "      <td>성동구</td>\n",
       "      <td>157863.0</td>\n",
       "      <td>84106.0</td>\n",
       "      <td>34878.0</td>\n",
       "      <td>38879.0</td>\n",
       "    </tr>\n",
       "    <tr>\n",
       "      <th>4</th>\n",
       "      <td>서울특별시</td>\n",
       "      <td>광진구</td>\n",
       "      <td>180373.0</td>\n",
       "      <td>99366.0</td>\n",
       "      <td>38606.0</td>\n",
       "      <td>42401.0</td>\n",
       "    </tr>\n",
       "  </tbody>\n",
       "</table>\n",
       "</div>"
      ],
      "text/plain": [
       "    광역시도   시군       pop    minju  tonghap     gita\n",
       "0  서울특별시  종로구   81195.0  41148.0  18777.0  21270.0\n",
       "1  서울특별시   중구   66474.0  34243.0  15618.0  16613.0\n",
       "2  서울특별시  용산구  116054.0  53964.0  31073.0  31017.0\n",
       "3  서울특별시  성동구  157863.0  84106.0  34878.0  38879.0\n",
       "4  서울특별시  광진구  180373.0  99366.0  38606.0  42401.0"
      ]
     },
     "execution_count": 162,
     "metadata": {},
     "output_type": "execute_result"
    }
   ],
   "source": [
    "election_result['pop'] = pop\n",
    "election_result['minju'] = minju\n",
    "election_result['tonghap'] = tonghap\n",
    "election_result['gita'] = gita\n",
    "election_result.head()"
   ]
  },
  {
   "cell_type": "code",
   "execution_count": 163,
   "metadata": {},
   "outputs": [
    {
     "name": "stderr",
     "output_type": "stream",
     "text": [
      "c:\\users\\taehui lee\\anaconda3\\envs\\data_python\\lib\\site-packages\\ipykernel_launcher.py:3: TqdmDeprecationWarning: This function will be removed in tqdm==5.0.0\n",
      "Please use `tqdm.notebook.tqdm` instead of `tqdm.tqdm_notebook`\n",
      "  This is separate from the ipykernel package so we can avoid doing imports until\n"
     ]
    },
    {
     "data": {
      "application/vnd.jupyter.widget-view+json": {
       "model_id": "347b3733a9d24e41a16d1a30a6ad7eb2",
       "version_major": 2,
       "version_minor": 0
      },
      "text/plain": [
       "HBox(children=(FloatProgress(value=0.0, max=20.0), HTML(value='')))"
      ]
     },
     "metadata": {},
     "output_type": "display_data"
    },
    {
     "name": "stdout",
     "output_type": "stream",
     "text": [
      "Error\n",
      "Error\n",
      "Error\n",
      "Error\n",
      "Error\n",
      "Error\n",
      "Error\n",
      "Error\n",
      "\n"
     ]
    }
   ],
   "source": [
    "re_try_index = election_result[election_result['pop'].isnull()].index\n",
    "\n",
    "for n in tqdm_notebook(re_try_index):\n",
    "    try:\n",
    "        element = driver.find_element_by_id(\"cityCode\")\n",
    "        element.send_keys(election_result['광역시도'][n])\n",
    "        \n",
    "        time.sleep(1)\n",
    "        \n",
    "        element = driver.find_element_by_id(\"townCode\")\n",
    "        element.send_keys(election_result['시군'][n])\n",
    "        \n",
    "        driver.find_element_by_xpath(\"\"\"//*[@id=\"spanSubmit\"]/input\"\"\").click()\n",
    "        \n",
    "        time.sleep(1)\n",
    "        \n",
    "        get_vote_info(n)\n",
    "    \n",
    "    except:\n",
    "        print('Error')\n",
    "        fail_procedure(n)"
   ]
  },
  {
   "cell_type": "code",
   "execution_count": 164,
   "metadata": {},
   "outputs": [
    {
     "data": {
      "text/html": [
       "<div>\n",
       "<style scoped>\n",
       "    .dataframe tbody tr th:only-of-type {\n",
       "        vertical-align: middle;\n",
       "    }\n",
       "\n",
       "    .dataframe tbody tr th {\n",
       "        vertical-align: top;\n",
       "    }\n",
       "\n",
       "    .dataframe thead th {\n",
       "        text-align: right;\n",
       "    }\n",
       "</style>\n",
       "<table border=\"1\" class=\"dataframe\">\n",
       "  <thead>\n",
       "    <tr style=\"text-align: right;\">\n",
       "      <th></th>\n",
       "      <th>광역시도</th>\n",
       "      <th>시군</th>\n",
       "      <th>pop</th>\n",
       "      <th>minju</th>\n",
       "      <th>tonghap</th>\n",
       "      <th>gita</th>\n",
       "    </tr>\n",
       "  </thead>\n",
       "  <tbody>\n",
       "    <tr>\n",
       "      <th>0</th>\n",
       "      <td>서울특별시</td>\n",
       "      <td>종로구</td>\n",
       "      <td>81195.0</td>\n",
       "      <td>41148.0</td>\n",
       "      <td>18777.0</td>\n",
       "      <td>21270.0</td>\n",
       "    </tr>\n",
       "    <tr>\n",
       "      <th>1</th>\n",
       "      <td>서울특별시</td>\n",
       "      <td>중구</td>\n",
       "      <td>66474.0</td>\n",
       "      <td>34243.0</td>\n",
       "      <td>15618.0</td>\n",
       "      <td>16613.0</td>\n",
       "    </tr>\n",
       "    <tr>\n",
       "      <th>2</th>\n",
       "      <td>서울특별시</td>\n",
       "      <td>용산구</td>\n",
       "      <td>116054.0</td>\n",
       "      <td>53964.0</td>\n",
       "      <td>31073.0</td>\n",
       "      <td>31017.0</td>\n",
       "    </tr>\n",
       "    <tr>\n",
       "      <th>3</th>\n",
       "      <td>서울특별시</td>\n",
       "      <td>성동구</td>\n",
       "      <td>157863.0</td>\n",
       "      <td>84106.0</td>\n",
       "      <td>34878.0</td>\n",
       "      <td>38879.0</td>\n",
       "    </tr>\n",
       "    <tr>\n",
       "      <th>4</th>\n",
       "      <td>서울특별시</td>\n",
       "      <td>광진구</td>\n",
       "      <td>180373.0</td>\n",
       "      <td>99366.0</td>\n",
       "      <td>38606.0</td>\n",
       "      <td>42401.0</td>\n",
       "    </tr>\n",
       "  </tbody>\n",
       "</table>\n",
       "</div>"
      ],
      "text/plain": [
       "    광역시도   시군       pop    minju  tonghap     gita\n",
       "0  서울특별시  종로구   81195.0  41148.0  18777.0  21270.0\n",
       "1  서울특별시   중구   66474.0  34243.0  15618.0  16613.0\n",
       "2  서울특별시  용산구  116054.0  53964.0  31073.0  31017.0\n",
       "3  서울특별시  성동구  157863.0  84106.0  34878.0  38879.0\n",
       "4  서울특별시  광진구  180373.0  99366.0  38606.0  42401.0"
      ]
     },
     "execution_count": 164,
     "metadata": {},
     "output_type": "execute_result"
    }
   ],
   "source": [
    "election_result['pop'] = pop\n",
    "election_result['minju'] = minju\n",
    "election_result['tonghap'] = tonghap\n",
    "election_result['gita'] = gita\n",
    "election_result.head()"
   ]
  },
  {
   "cell_type": "code",
   "execution_count": 165,
   "metadata": {},
   "outputs": [
    {
     "name": "stderr",
     "output_type": "stream",
     "text": [
      "c:\\users\\taehui lee\\anaconda3\\envs\\data_python\\lib\\site-packages\\ipykernel_launcher.py:3: TqdmDeprecationWarning: This function will be removed in tqdm==5.0.0\n",
      "Please use `tqdm.notebook.tqdm` instead of `tqdm.tqdm_notebook`\n",
      "  This is separate from the ipykernel package so we can avoid doing imports until\n"
     ]
    },
    {
     "data": {
      "application/vnd.jupyter.widget-view+json": {
       "model_id": "b4bced0ab07a43d7b1e753bd5e1db2a4",
       "version_major": 2,
       "version_minor": 0
      },
      "text/plain": [
       "HBox(children=(FloatProgress(value=0.0, max=8.0), HTML(value='')))"
      ]
     },
     "metadata": {},
     "output_type": "display_data"
    },
    {
     "name": "stdout",
     "output_type": "stream",
     "text": [
      "Error\n",
      "Error\n",
      "\n"
     ]
    }
   ],
   "source": [
    "re_try_index = election_result[election_result['pop'].isnull()].index\n",
    "\n",
    "for n in tqdm_notebook(re_try_index):\n",
    "    try:\n",
    "        element = driver.find_element_by_id(\"cityCode\")\n",
    "        element.send_keys(election_result['광역시도'][n])\n",
    "        \n",
    "        time.sleep(1)\n",
    "        \n",
    "        element = driver.find_element_by_id(\"townCode\")\n",
    "        element.send_keys(election_result['시군'][n])\n",
    "        \n",
    "        driver.find_element_by_xpath(\"\"\"//*[@id=\"spanSubmit\"]/input\"\"\").click()\n",
    "        \n",
    "        time.sleep(1)\n",
    "        \n",
    "        get_vote_info(n)\n",
    "    \n",
    "    except:\n",
    "        print('Error')\n",
    "        fail_procedure(n)"
   ]
  },
  {
   "cell_type": "code",
   "execution_count": 166,
   "metadata": {},
   "outputs": [
    {
     "data": {
      "text/html": [
       "<div>\n",
       "<style scoped>\n",
       "    .dataframe tbody tr th:only-of-type {\n",
       "        vertical-align: middle;\n",
       "    }\n",
       "\n",
       "    .dataframe tbody tr th {\n",
       "        vertical-align: top;\n",
       "    }\n",
       "\n",
       "    .dataframe thead th {\n",
       "        text-align: right;\n",
       "    }\n",
       "</style>\n",
       "<table border=\"1\" class=\"dataframe\">\n",
       "  <thead>\n",
       "    <tr style=\"text-align: right;\">\n",
       "      <th></th>\n",
       "      <th>광역시도</th>\n",
       "      <th>시군</th>\n",
       "      <th>pop</th>\n",
       "      <th>minju</th>\n",
       "      <th>tonghap</th>\n",
       "      <th>gita</th>\n",
       "    </tr>\n",
       "  </thead>\n",
       "  <tbody>\n",
       "    <tr>\n",
       "      <th>0</th>\n",
       "      <td>서울특별시</td>\n",
       "      <td>종로구</td>\n",
       "      <td>81195.0</td>\n",
       "      <td>41148.0</td>\n",
       "      <td>18777.0</td>\n",
       "      <td>21270.0</td>\n",
       "    </tr>\n",
       "    <tr>\n",
       "      <th>1</th>\n",
       "      <td>서울특별시</td>\n",
       "      <td>중구</td>\n",
       "      <td>66474.0</td>\n",
       "      <td>34243.0</td>\n",
       "      <td>15618.0</td>\n",
       "      <td>16613.0</td>\n",
       "    </tr>\n",
       "    <tr>\n",
       "      <th>2</th>\n",
       "      <td>서울특별시</td>\n",
       "      <td>용산구</td>\n",
       "      <td>116054.0</td>\n",
       "      <td>53964.0</td>\n",
       "      <td>31073.0</td>\n",
       "      <td>31017.0</td>\n",
       "    </tr>\n",
       "    <tr>\n",
       "      <th>3</th>\n",
       "      <td>서울특별시</td>\n",
       "      <td>성동구</td>\n",
       "      <td>157863.0</td>\n",
       "      <td>84106.0</td>\n",
       "      <td>34878.0</td>\n",
       "      <td>38879.0</td>\n",
       "    </tr>\n",
       "    <tr>\n",
       "      <th>4</th>\n",
       "      <td>서울특별시</td>\n",
       "      <td>광진구</td>\n",
       "      <td>180373.0</td>\n",
       "      <td>99366.0</td>\n",
       "      <td>38606.0</td>\n",
       "      <td>42401.0</td>\n",
       "    </tr>\n",
       "  </tbody>\n",
       "</table>\n",
       "</div>"
      ],
      "text/plain": [
       "    광역시도   시군       pop    minju  tonghap     gita\n",
       "0  서울특별시  종로구   81195.0  41148.0  18777.0  21270.0\n",
       "1  서울특별시   중구   66474.0  34243.0  15618.0  16613.0\n",
       "2  서울특별시  용산구  116054.0  53964.0  31073.0  31017.0\n",
       "3  서울특별시  성동구  157863.0  84106.0  34878.0  38879.0\n",
       "4  서울특별시  광진구  180373.0  99366.0  38606.0  42401.0"
      ]
     },
     "execution_count": 166,
     "metadata": {},
     "output_type": "execute_result"
    }
   ],
   "source": [
    "election_result['pop'] = pop\n",
    "election_result['minju'] = minju\n",
    "election_result['tonghap'] = tonghap\n",
    "election_result['gita'] = gita\n",
    "election_result.head()"
   ]
  },
  {
   "cell_type": "code",
   "execution_count": 167,
   "metadata": {},
   "outputs": [
    {
     "name": "stderr",
     "output_type": "stream",
     "text": [
      "c:\\users\\taehui lee\\anaconda3\\envs\\data_python\\lib\\site-packages\\ipykernel_launcher.py:3: TqdmDeprecationWarning: This function will be removed in tqdm==5.0.0\n",
      "Please use `tqdm.notebook.tqdm` instead of `tqdm.tqdm_notebook`\n",
      "  This is separate from the ipykernel package so we can avoid doing imports until\n"
     ]
    },
    {
     "data": {
      "application/vnd.jupyter.widget-view+json": {
       "model_id": "85445b57888047f08fb950e5caa9c995",
       "version_major": 2,
       "version_minor": 0
      },
      "text/plain": [
       "HBox(children=(FloatProgress(value=0.0, max=2.0), HTML(value='')))"
      ]
     },
     "metadata": {},
     "output_type": "display_data"
    },
    {
     "name": "stdout",
     "output_type": "stream",
     "text": [
      "Error\n",
      "\n"
     ]
    }
   ],
   "source": [
    "re_try_index = election_result[election_result['pop'].isnull()].index\n",
    "\n",
    "for n in tqdm_notebook(re_try_index):\n",
    "    try:\n",
    "        element = driver.find_element_by_id(\"cityCode\")\n",
    "        element.send_keys(election_result['광역시도'][n])\n",
    "        \n",
    "        time.sleep(2)\n",
    "        \n",
    "        element = driver.find_element_by_id(\"townCode\")\n",
    "        element.send_keys(election_result['시군'][n])\n",
    "        \n",
    "        driver.find_element_by_xpath(\"\"\"//*[@id=\"spanSubmit\"]/input\"\"\").click()\n",
    "        \n",
    "        time.sleep(2)\n",
    "        \n",
    "        get_vote_info(n)\n",
    "    \n",
    "    except:\n",
    "        print('Error')\n",
    "        fail_procedure(n)"
   ]
  },
  {
   "cell_type": "code",
   "execution_count": 168,
   "metadata": {},
   "outputs": [
    {
     "data": {
      "text/html": [
       "<div>\n",
       "<style scoped>\n",
       "    .dataframe tbody tr th:only-of-type {\n",
       "        vertical-align: middle;\n",
       "    }\n",
       "\n",
       "    .dataframe tbody tr th {\n",
       "        vertical-align: top;\n",
       "    }\n",
       "\n",
       "    .dataframe thead th {\n",
       "        text-align: right;\n",
       "    }\n",
       "</style>\n",
       "<table border=\"1\" class=\"dataframe\">\n",
       "  <thead>\n",
       "    <tr style=\"text-align: right;\">\n",
       "      <th></th>\n",
       "      <th>광역시도</th>\n",
       "      <th>시군</th>\n",
       "      <th>pop</th>\n",
       "      <th>minju</th>\n",
       "      <th>tonghap</th>\n",
       "      <th>gita</th>\n",
       "    </tr>\n",
       "  </thead>\n",
       "  <tbody>\n",
       "    <tr>\n",
       "      <th>0</th>\n",
       "      <td>서울특별시</td>\n",
       "      <td>종로구</td>\n",
       "      <td>81195.0</td>\n",
       "      <td>41148.0</td>\n",
       "      <td>18777.0</td>\n",
       "      <td>21270.0</td>\n",
       "    </tr>\n",
       "    <tr>\n",
       "      <th>1</th>\n",
       "      <td>서울특별시</td>\n",
       "      <td>중구</td>\n",
       "      <td>66474.0</td>\n",
       "      <td>34243.0</td>\n",
       "      <td>15618.0</td>\n",
       "      <td>16613.0</td>\n",
       "    </tr>\n",
       "    <tr>\n",
       "      <th>2</th>\n",
       "      <td>서울특별시</td>\n",
       "      <td>용산구</td>\n",
       "      <td>116054.0</td>\n",
       "      <td>53964.0</td>\n",
       "      <td>31073.0</td>\n",
       "      <td>31017.0</td>\n",
       "    </tr>\n",
       "    <tr>\n",
       "      <th>3</th>\n",
       "      <td>서울특별시</td>\n",
       "      <td>성동구</td>\n",
       "      <td>157863.0</td>\n",
       "      <td>84106.0</td>\n",
       "      <td>34878.0</td>\n",
       "      <td>38879.0</td>\n",
       "    </tr>\n",
       "    <tr>\n",
       "      <th>4</th>\n",
       "      <td>서울특별시</td>\n",
       "      <td>광진구</td>\n",
       "      <td>180373.0</td>\n",
       "      <td>99366.0</td>\n",
       "      <td>38606.0</td>\n",
       "      <td>42401.0</td>\n",
       "    </tr>\n",
       "  </tbody>\n",
       "</table>\n",
       "</div>"
      ],
      "text/plain": [
       "    광역시도   시군       pop    minju  tonghap     gita\n",
       "0  서울특별시  종로구   81195.0  41148.0  18777.0  21270.0\n",
       "1  서울특별시   중구   66474.0  34243.0  15618.0  16613.0\n",
       "2  서울특별시  용산구  116054.0  53964.0  31073.0  31017.0\n",
       "3  서울특별시  성동구  157863.0  84106.0  34878.0  38879.0\n",
       "4  서울특별시  광진구  180373.0  99366.0  38606.0  42401.0"
      ]
     },
     "execution_count": 168,
     "metadata": {},
     "output_type": "execute_result"
    }
   ],
   "source": [
    "election_result['pop'] = pop\n",
    "election_result['minju'] = minju\n",
    "election_result['tonghap'] = tonghap\n",
    "election_result['gita'] = gita\n",
    "election_result.head()"
   ]
  },
  {
   "cell_type": "code",
   "execution_count": 169,
   "metadata": {},
   "outputs": [
    {
     "name": "stderr",
     "output_type": "stream",
     "text": [
      "c:\\users\\taehui lee\\anaconda3\\envs\\data_python\\lib\\site-packages\\ipykernel_launcher.py:3: TqdmDeprecationWarning: This function will be removed in tqdm==5.0.0\n",
      "Please use `tqdm.notebook.tqdm` instead of `tqdm.tqdm_notebook`\n",
      "  This is separate from the ipykernel package so we can avoid doing imports until\n"
     ]
    },
    {
     "data": {
      "application/vnd.jupyter.widget-view+json": {
       "model_id": "5cc61e46ebf04055844f7e1c529fd834",
       "version_major": 2,
       "version_minor": 0
      },
      "text/plain": [
       "HBox(children=(FloatProgress(value=0.0, max=1.0), HTML(value='')))"
      ]
     },
     "metadata": {},
     "output_type": "display_data"
    },
    {
     "name": "stdout",
     "output_type": "stream",
     "text": [
      "Error\n",
      "\n"
     ]
    }
   ],
   "source": [
    "re_try_index = election_result[election_result['pop'].isnull()].index\n",
    "\n",
    "for n in tqdm_notebook(re_try_index):\n",
    "    try:\n",
    "        element = driver.find_element_by_id(\"cityCode\")\n",
    "        element.send_keys(election_result['광역시도'][n])\n",
    "        \n",
    "        time.sleep(2)\n",
    "        \n",
    "        element = driver.find_element_by_id(\"townCode\")\n",
    "        element.send_keys(election_result['시군'][n])\n",
    "        \n",
    "        driver.find_element_by_xpath(\"\"\"//*[@id=\"spanSubmit\"]/input\"\"\").click()\n",
    "        \n",
    "        time.sleep(2)\n",
    "        \n",
    "        get_vote_info(n)\n",
    "    \n",
    "    except:\n",
    "        print('Error')\n",
    "        fail_procedure(n)"
   ]
  },
  {
   "cell_type": "code",
   "execution_count": 170,
   "metadata": {},
   "outputs": [
    {
     "data": {
      "text/html": [
       "<div>\n",
       "<style scoped>\n",
       "    .dataframe tbody tr th:only-of-type {\n",
       "        vertical-align: middle;\n",
       "    }\n",
       "\n",
       "    .dataframe tbody tr th {\n",
       "        vertical-align: top;\n",
       "    }\n",
       "\n",
       "    .dataframe thead th {\n",
       "        text-align: right;\n",
       "    }\n",
       "</style>\n",
       "<table border=\"1\" class=\"dataframe\">\n",
       "  <thead>\n",
       "    <tr style=\"text-align: right;\">\n",
       "      <th></th>\n",
       "      <th>광역시도</th>\n",
       "      <th>시군</th>\n",
       "      <th>pop</th>\n",
       "      <th>minju</th>\n",
       "      <th>tonghap</th>\n",
       "      <th>gita</th>\n",
       "    </tr>\n",
       "  </thead>\n",
       "  <tbody>\n",
       "    <tr>\n",
       "      <th>0</th>\n",
       "      <td>서울특별시</td>\n",
       "      <td>종로구</td>\n",
       "      <td>81195.0</td>\n",
       "      <td>41148.0</td>\n",
       "      <td>18777.0</td>\n",
       "      <td>21270.0</td>\n",
       "    </tr>\n",
       "    <tr>\n",
       "      <th>1</th>\n",
       "      <td>서울특별시</td>\n",
       "      <td>중구</td>\n",
       "      <td>66474.0</td>\n",
       "      <td>34243.0</td>\n",
       "      <td>15618.0</td>\n",
       "      <td>16613.0</td>\n",
       "    </tr>\n",
       "    <tr>\n",
       "      <th>2</th>\n",
       "      <td>서울특별시</td>\n",
       "      <td>용산구</td>\n",
       "      <td>116054.0</td>\n",
       "      <td>53964.0</td>\n",
       "      <td>31073.0</td>\n",
       "      <td>31017.0</td>\n",
       "    </tr>\n",
       "    <tr>\n",
       "      <th>3</th>\n",
       "      <td>서울특별시</td>\n",
       "      <td>성동구</td>\n",
       "      <td>157863.0</td>\n",
       "      <td>84106.0</td>\n",
       "      <td>34878.0</td>\n",
       "      <td>38879.0</td>\n",
       "    </tr>\n",
       "    <tr>\n",
       "      <th>4</th>\n",
       "      <td>서울특별시</td>\n",
       "      <td>광진구</td>\n",
       "      <td>180373.0</td>\n",
       "      <td>99366.0</td>\n",
       "      <td>38606.0</td>\n",
       "      <td>42401.0</td>\n",
       "    </tr>\n",
       "  </tbody>\n",
       "</table>\n",
       "</div>"
      ],
      "text/plain": [
       "    광역시도   시군       pop    minju  tonghap     gita\n",
       "0  서울특별시  종로구   81195.0  41148.0  18777.0  21270.0\n",
       "1  서울특별시   중구   66474.0  34243.0  15618.0  16613.0\n",
       "2  서울특별시  용산구  116054.0  53964.0  31073.0  31017.0\n",
       "3  서울특별시  성동구  157863.0  84106.0  34878.0  38879.0\n",
       "4  서울특별시  광진구  180373.0  99366.0  38606.0  42401.0"
      ]
     },
     "execution_count": 170,
     "metadata": {},
     "output_type": "execute_result"
    }
   ],
   "source": [
    "election_result['pop'] = pop\n",
    "election_result['minju'] = minju\n",
    "election_result['tonghap'] = tonghap\n",
    "election_result['gita'] = gita\n",
    "election_result.head()"
   ]
  },
  {
   "cell_type": "code",
   "execution_count": 173,
   "metadata": {},
   "outputs": [
    {
     "name": "stderr",
     "output_type": "stream",
     "text": [
      "c:\\users\\taehui lee\\anaconda3\\envs\\data_python\\lib\\site-packages\\ipykernel_launcher.py:3: TqdmDeprecationWarning: This function will be removed in tqdm==5.0.0\n",
      "Please use `tqdm.notebook.tqdm` instead of `tqdm.tqdm_notebook`\n",
      "  This is separate from the ipykernel package so we can avoid doing imports until\n"
     ]
    },
    {
     "data": {
      "application/vnd.jupyter.widget-view+json": {
       "model_id": "0697d2bdf9e2481c8f62129b7c7aa470",
       "version_major": 2,
       "version_minor": 0
      },
      "text/plain": [
       "HBox(children=(FloatProgress(value=0.0, max=1.0), HTML(value='')))"
      ]
     },
     "metadata": {},
     "output_type": "display_data"
    },
    {
     "name": "stdout",
     "output_type": "stream",
     "text": [
      "Error\n",
      "\n"
     ]
    }
   ],
   "source": [
    "re_try_index = election_result[election_result['pop'].isnull()].index\n",
    "\n",
    "for n in tqdm_notebook(re_try_index):\n",
    "    try:\n",
    "        element = driver.find_element_by_id(\"cityCode\")\n",
    "        element.send_keys(election_result['광역시도'][n])\n",
    "        \n",
    "        time.sleep(3)\n",
    "        \n",
    "        element = driver.find_element_by_id(\"townCode\")\n",
    "        element.send_keys(election_result['시군'][n])\n",
    "        \n",
    "        driver.find_element_by_xpath(\"\"\"//*[@id=\"spanSubmit\"]/input\"\"\").click()\n",
    "        \n",
    "        time.sleep(10)\n",
    "        \n",
    "        get_vote_info(n)\n",
    "    \n",
    "    except:\n",
    "        print('Error')\n",
    "        fail_procedure(n)"
   ]
  },
  {
   "cell_type": "code",
   "execution_count": 174,
   "metadata": {},
   "outputs": [
    {
     "data": {
      "text/html": [
       "<div>\n",
       "<style scoped>\n",
       "    .dataframe tbody tr th:only-of-type {\n",
       "        vertical-align: middle;\n",
       "    }\n",
       "\n",
       "    .dataframe tbody tr th {\n",
       "        vertical-align: top;\n",
       "    }\n",
       "\n",
       "    .dataframe thead th {\n",
       "        text-align: right;\n",
       "    }\n",
       "</style>\n",
       "<table border=\"1\" class=\"dataframe\">\n",
       "  <thead>\n",
       "    <tr style=\"text-align: right;\">\n",
       "      <th></th>\n",
       "      <th>광역시도</th>\n",
       "      <th>시군</th>\n",
       "      <th>pop</th>\n",
       "      <th>minju</th>\n",
       "      <th>tonghap</th>\n",
       "      <th>gita</th>\n",
       "    </tr>\n",
       "  </thead>\n",
       "  <tbody>\n",
       "    <tr>\n",
       "      <th>0</th>\n",
       "      <td>서울특별시</td>\n",
       "      <td>종로구</td>\n",
       "      <td>81195.0</td>\n",
       "      <td>41148.0</td>\n",
       "      <td>18777.0</td>\n",
       "      <td>21270.0</td>\n",
       "    </tr>\n",
       "    <tr>\n",
       "      <th>1</th>\n",
       "      <td>서울특별시</td>\n",
       "      <td>중구</td>\n",
       "      <td>66474.0</td>\n",
       "      <td>34243.0</td>\n",
       "      <td>15618.0</td>\n",
       "      <td>16613.0</td>\n",
       "    </tr>\n",
       "    <tr>\n",
       "      <th>2</th>\n",
       "      <td>서울특별시</td>\n",
       "      <td>용산구</td>\n",
       "      <td>116054.0</td>\n",
       "      <td>53964.0</td>\n",
       "      <td>31073.0</td>\n",
       "      <td>31017.0</td>\n",
       "    </tr>\n",
       "    <tr>\n",
       "      <th>3</th>\n",
       "      <td>서울특별시</td>\n",
       "      <td>성동구</td>\n",
       "      <td>157863.0</td>\n",
       "      <td>84106.0</td>\n",
       "      <td>34878.0</td>\n",
       "      <td>38879.0</td>\n",
       "    </tr>\n",
       "    <tr>\n",
       "      <th>4</th>\n",
       "      <td>서울특별시</td>\n",
       "      <td>광진구</td>\n",
       "      <td>180373.0</td>\n",
       "      <td>99366.0</td>\n",
       "      <td>38606.0</td>\n",
       "      <td>42401.0</td>\n",
       "    </tr>\n",
       "  </tbody>\n",
       "</table>\n",
       "</div>"
      ],
      "text/plain": [
       "    광역시도   시군       pop    minju  tonghap     gita\n",
       "0  서울특별시  종로구   81195.0  41148.0  18777.0  21270.0\n",
       "1  서울특별시   중구   66474.0  34243.0  15618.0  16613.0\n",
       "2  서울특별시  용산구  116054.0  53964.0  31073.0  31017.0\n",
       "3  서울특별시  성동구  157863.0  84106.0  34878.0  38879.0\n",
       "4  서울특별시  광진구  180373.0  99366.0  38606.0  42401.0"
      ]
     },
     "execution_count": 174,
     "metadata": {},
     "output_type": "execute_result"
    }
   ],
   "source": [
    "election_result['pop'] = pop\n",
    "election_result['minju'] = minju\n",
    "election_result['tonghap'] = tonghap\n",
    "election_result['gita'] = gita\n",
    "election_result.head()"
   ]
  },
  {
   "cell_type": "code",
   "execution_count": 175,
   "metadata": {},
   "outputs": [],
   "source": [
    "election_result.to_csv('./round07_election_result.csv', encoding='utf-8',  sep=',')"
   ]
  },
  {
   "cell_type": "code",
   "execution_count": null,
   "metadata": {},
   "outputs": [],
   "source": []
  }
 ],
 "metadata": {
  "kernelspec": {
   "display_name": "Python 3",
   "language": "python",
   "name": "python3"
  },
  "language_info": {
   "codemirror_mode": {
    "name": "ipython",
    "version": 3
   },
   "file_extension": ".py",
   "mimetype": "text/x-python",
   "name": "python",
   "nbconvert_exporter": "python",
   "pygments_lexer": "ipython3",
   "version": "3.6.10"
  }
 },
 "nbformat": 4,
 "nbformat_minor": 4
}
