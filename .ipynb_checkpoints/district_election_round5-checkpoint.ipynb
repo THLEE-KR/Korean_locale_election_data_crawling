{
 "cells": [
  {
   "cell_type": "code",
   "execution_count": 1,
   "metadata": {},
   "outputs": [],
   "source": [
    "import pandas as pd\n",
    "import numpy as np\n",
    "import platform\n",
    "import matplotlib.pyplot as plt\n",
    "from selenium import webdriver\n",
    "import time\n",
    "\n",
    "path = 'c:/Windows/Fonts/malgun.ttf'\n",
    "from matplotlib import font_manager, rc\n",
    "\n",
    "font_name = font_manager.FontProperties(fname=path).get_name()\n",
    "\n",
    "plt.rcParams['axes.unicode_minus'] = False"
   ]
  },
  {
   "cell_type": "code",
   "execution_count": 2,
   "metadata": {
    "scrolled": true
   },
   "outputs": [
    {
     "name": "stderr",
     "output_type": "stream",
     "text": [
      "c:\\users\\taehui lee\\anaconda3\\envs\\data_python\\lib\\site-packages\\ipykernel_launcher.py:6: DeprecationWarning: use driver.switch_to.default_content instead\n",
      "  \n",
      "c:\\users\\taehui lee\\anaconda3\\envs\\data_python\\lib\\site-packages\\ipykernel_launcher.py:7: DeprecationWarning: use driver.switch_to.frame instead\n",
      "  import sys\n"
     ]
    },
    {
     "name": "stdout",
     "output_type": "stream",
     "text": [
      "['제7회', '제6회', '제5회', '제4회', '제3회', '제2회', '제1회']\n",
      "None\n",
      "['시·도지사선거', '구·시·군의장선거', '시·도의회의원선거', '구·시·군의회의원선거', '광역의원비례대표선거', '기초의원비례대표선거', '교육감선거', '교육의원선거']\n",
      "None\n",
      "['서울특별시', '부산광역시', '대구광역시', '인천광역시', '광주광역시', '대전광역시', '울산광역시', '경기도', '강원도', '충청북도', '충청남도', '전라북도', '전라남도', '경상북도', '경상남도', '제주특별자치도']\n",
      "None\n",
      "['종로구', '중구', '용산구', '성동구', '광진구', '동대문구', '중랑구', '성북구', '강북구', '도봉구', '노원구', '은평구', '서대문구', '마포구', '양천구', '강서구', '구로구', '금천구', '영등포구', '동작구', '관악구', '서초구', '강남구', '송파구', '강동구']\n"
     ]
    }
   ],
   "source": [
    "driver = webdriver.Chrome('../driver/chromedriver/chromedriver.exe')\n",
    "driver.get(\"http://info.nec.go.kr/\")\n",
    "\n",
    "time.sleep(3)\n",
    "\n",
    "driver.switch_to_default_content()\n",
    "driver.switch_to_frame('main')\n",
    "\n",
    "time.sleep(0.5)\n",
    "driver.find_element_by_xpath(\"\"\"//*[@id=\"header\"]/ul[1]/li[2]/a\"\"\").click()\n",
    "\n",
    "time.sleep(0.5)\n",
    "driver.find_element_by_xpath(\"\"\"//*[@id=\"header\"]/ul[1]/li[2]/a\"\"\").click()\n",
    "\n",
    "time.sleep(0.5)\n",
    "driver.find_element_by_xpath(\"\"\"//*[@id=\"presubmu\"]/li[4]/a\"\"\").click()\n",
    "\n",
    "time.sleep(0.5)\n",
    "make_xpath = \"\"\"//*[contains(text(), \"개표현황(읍면동별)\")]\"\"\"\n",
    "driver.find_elements_by_xpath(make_xpath)[1].click()\n",
    "\n",
    "time.sleep(0.5)\n",
    "driver.find_element_by_xpath(\"\"\"//*[@id=\"electionType4\"]\"\"\").click()\n",
    "\n",
    "time.sleep(0.5)\n",
    "round_list_raw = driver.find_element_by_xpath(\"\"\"//*[@id=\"electionName\"]\"\"\")\n",
    "round_list = round_list_raw.find_elements_by_tag_name(\"option\")\n",
    "round_name_values = [option.text for option in round_list]\n",
    "round_names_values = round_name_values[1:]\n",
    "print(round_names_values)\n",
    "\n",
    "time.sleep(0.5)\n",
    "element1 = driver.find_element_by_id(\"electionName\")\n",
    "print(element1.send_keys(round_names_values[2]))  # 제 5회\n",
    "\n",
    "time.sleep(0.5)\n",
    "code_list_raw = driver.find_element_by_xpath(\"\"\"//*[@id=\"electionCode\"]\"\"\")\n",
    "code_list = code_list_raw.find_elements_by_tag_name(\"option\")\n",
    "code_name_values = [option.text for option in code_list]\n",
    "code_names_values = code_name_values[1:]\n",
    "print(code_names_values)\n",
    "\n",
    "time.sleep(0.5)\n",
    "element2 = driver.find_element_by_id(\"electionCode\")\n",
    "print(element2.send_keys(code_names_values[0]))  # 시·도지사선거\n",
    "\n",
    "time.sleep(0.5)\n",
    "sido_list_raw = driver.find_element_by_xpath(\"\"\"//*[@id=\"cityCode\"]\"\"\")\n",
    "sido_list = sido_list_raw.find_elements_by_tag_name(\"option\")\n",
    "sido_names_values = [option.text for option in sido_list]\n",
    "sido_names_values = sido_names_values[1:]\n",
    "print(sido_names_values)\n",
    "\n",
    "time.sleep(0.5)\n",
    "element3 = driver.find_element_by_id(\"cityCode\")\n",
    "print(element3.send_keys(sido_names_values[0]))  # 서울특별시\n",
    "\n",
    "time.sleep(0.5)\n",
    "gusigun_list_raw = driver.find_element_by_xpath(\"\"\"//*[@id=\"townCode\"]\"\"\")\n",
    "gusigun_list = gusigun_list_raw.find_elements_by_tag_name(\"option\")\n",
    "gusigun_names_values = [option.text for option in gusigun_list]\n",
    "gusigun_names_values = gusigun_names_values[1:]\n",
    "print(gusigun_names_values)\n",
    "\n",
    "time.sleep(0.5)\n",
    "element4 = driver.find_element_by_id(\"townCode\")\n",
    "element4.send_keys(gusigun_names_values[0])  # 종로구\n",
    "\n",
    "time.sleep(0.5)\n",
    "driver.find_element_by_xpath(\"\"\"//*[@id=\"searchBtn\"]\"\"\").click()\n",
    "\n",
    "time.sleep(0.5)\n",
    "\n",
    "time.sleep(0.5)"
   ]
  },
  {
   "cell_type": "code",
   "execution_count": 3,
   "metadata": {},
   "outputs": [
    {
     "data": {
      "text/plain": [
       "[<td class=\"alignR\">77,812</td>,\n",
       " <td class=\"alignR\">35,476</td>,\n",
       " <td class=\"alignR\">36,910</td>]"
      ]
     },
     "execution_count": 3,
     "metadata": {},
     "output_type": "execute_result"
    }
   ],
   "source": [
    "from bs4 import BeautifulSoup\n",
    "\n",
    "html = driver.page_source\n",
    "soup = BeautifulSoup(html, 'html.parser')\n",
    "\n",
    "tmp = soup.find_all('td', 'alignR')\n",
    "tmp[1:4]"
   ]
  },
  {
   "cell_type": "code",
   "execution_count": null,
   "metadata": {
    "scrolled": true
   },
   "outputs": [
    {
     "name": "stderr",
     "output_type": "stream",
     "text": [
      "c:\\users\\taehui lee\\anaconda3\\envs\\data_python\\lib\\site-packages\\ipykernel_launcher.py:6: TqdmDeprecationWarning: This function will be removed in tqdm==5.0.0\n",
      "Please use `tqdm.notebook.tqdm` instead of `tqdm.tqdm_notebook`\n",
      "  \n"
     ]
    },
    {
     "data": {
      "application/vnd.jupyter.widget-view+json": {
       "model_id": "7cef2e61823e497f9a22688ca59328f7",
       "version_major": 2,
       "version_minor": 0
      },
      "text/plain": [
       "HBox(children=(FloatProgress(value=0.0, max=16.0), HTML(value='')))"
      ]
     },
     "metadata": {},
     "output_type": "display_data"
    }
   ],
   "source": [
    "from tqdm import tqdm_notebook\n",
    "\n",
    "sido_name_list = []\n",
    "gusigun_name_list = []\n",
    "\n",
    "for sido_value in tqdm_notebook(sido_names_values):\n",
    "    element = driver.find_element_by_id(\"cityCode\")\n",
    "    element.send_keys(sido_value)\n",
    "\n",
    "    time.sleep(1)\n",
    "\n",
    "    gusigun_list_raw = driver.find_element_by_xpath(\"\"\"//*[@id=\"townCode\"]\"\"\")\n",
    "    gusigun_list = gusigun_list_raw.find_elements_by_tag_name(\"option\")\n",
    "    \n",
    "    gusigun_names_values = [option.text for option in gusigun_list]\n",
    "    gusigun_names_values = gusigun_names_values[1:]\n",
    "    \n",
    "    for gusigun_value in gusigun_names_values:\n",
    "        sido_name_list.append(sido_value)\n",
    "        gusigun_name_list.append(gusigun_value)\n",
    "\n",
    "election_result = pd.DataFrame({'광역시도':sido_name_list, \n",
    "                                '시군':gusigun_name_list})\n",
    "election_result"
   ]
  },
  {
   "cell_type": "code",
   "execution_count": null,
   "metadata": {},
   "outputs": [],
   "source": [
    "import numpy as np\n",
    "\n",
    "def get_vote_info(n):\n",
    "    html = driver.page_source\n",
    "    soup = BeautifulSoup(html, 'lxml')\n",
    "    \n",
    "    tmp = soup.find_all('td', 'alignR')\n",
    "    tmp_values = [float(tmp_val.get_text().replace(',', '')) \n",
    "                 for tmp_val in tmp[1:4]]\n",
    "    \n",
    "    pop[n] = tmp_values[0]\n",
    "    hannara[n] = tmp_values[1]\n",
    "    minju[n] = tmp_values[2]\n",
    "    gita[n] = tmp_values[0] - tmp_values[1] - tmp_values[2]\n",
    "\n",
    "def fail_procedure(n):\n",
    "    pop[n] = np.nan\n",
    "    hannara[n] = np.nan\n",
    "    minju[n] = np.nan\n",
    "    gita[n] = np.nan\n",
    "\n",
    "pop = [np.nan]*len(election_result)\n",
    "hannara = [np.nan]*len(election_result)\n",
    "minju = [np.nan]*len(election_result)\n",
    "gita = [np.nan]*len(election_result)\n",
    "\n",
    "len(pop), len(hannara), len(minju), len(gita)"
   ]
  },
  {
   "cell_type": "code",
   "execution_count": 25,
   "metadata": {
    "scrolled": true
   },
   "outputs": [
    {
     "name": "stderr",
     "output_type": "stream",
     "text": [
      "c:\\users\\taehui lee\\anaconda3\\envs\\data_python\\lib\\site-packages\\ipykernel_launcher.py:1: TqdmDeprecationWarning: This function will be removed in tqdm==5.0.0\n",
      "Please use `tqdm.notebook.tqdm` instead of `tqdm.tqdm_notebook`\n",
      "  \"\"\"Entry point for launching an IPython kernel.\n"
     ]
    },
    {
     "data": {
      "application/vnd.jupyter.widget-view+json": {
       "model_id": "416b2c7e06d0477b9b2c0d71c9923505",
       "version_major": 2,
       "version_minor": 0
      },
      "text/plain": [
       "HBox(children=(FloatProgress(value=0.0, max=249.0), HTML(value='')))"
      ]
     },
     "metadata": {},
     "output_type": "display_data"
    },
    {
     "name": "stdout",
     "output_type": "stream",
     "text": [
      "---Error---\n",
      "---Error---\n",
      "---Error---\n",
      "---Error---\n",
      "---Error---\n",
      "---Error---\n",
      "---Error---\n",
      "---Error---\n",
      "---Error---\n",
      "---Error---\n",
      "---Error---\n",
      "---Error---\n",
      "---Error---\n",
      "---Error---\n",
      "---Error---\n",
      "---Error---\n",
      "---Error---\n",
      "---Error---\n",
      "---Error---\n",
      "---Error---\n",
      "---Error---\n",
      "---Error---\n",
      "---Error---\n",
      "---Error---\n",
      "---Error---\n",
      "---Error---\n",
      "---Error---\n",
      "---Error---\n",
      "---Error---\n",
      "---Error---\n",
      "---Error---\n",
      "---Error---\n",
      "---Error---\n",
      "---Error---\n",
      "---Error---\n",
      "---Error---\n",
      "---Error---\n",
      "---Error---\n",
      "---Error---\n",
      "---Error---\n",
      "---Error---\n",
      "---Error---\n",
      "---Error---\n",
      "---Error---\n",
      "---Error---\n",
      "---Error---\n",
      "---Error---\n",
      "---Error---\n",
      "---Error---\n",
      "---Error---\n",
      "---Error---\n",
      "---Error---\n",
      "---Error---\n",
      "---Error---\n",
      "---Error---\n",
      "---Error---\n",
      "---Error---\n",
      "---Error---\n",
      "---Error---\n",
      "---Error---\n",
      "---Error---\n",
      "---Error---\n",
      "---Error---\n",
      "---Error---\n",
      "---Error---\n",
      "---Error---\n",
      "---Error---\n",
      "---Error---\n",
      "---Error---\n",
      "---Error---\n",
      "---Error---\n",
      "---Error---\n",
      "---Error---\n",
      "---Error---\n",
      "---Error---\n",
      "---Error---\n",
      "---Error---\n",
      "---Error---\n",
      "---Error---\n",
      "---Error---\n",
      "---Error---\n",
      "---Error---\n",
      "\n"
     ]
    }
   ],
   "source": [
    "for n in tqdm_notebook(election_result.index):\n",
    "    try:\n",
    "        element = driver.find_element_by_id(\"cityCode\")\n",
    "        element.send_keys(election_result['광역시도'][n])\n",
    "        \n",
    "        time.sleep(0.5)\n",
    "        \n",
    "        element = driver.find_element_by_id(\"townCode\")\n",
    "        element.send_keys(election_result['시군'][n])\n",
    "        \n",
    "        driver.find_element_by_xpath(\"\"\"//*[@id=\"spanSubmit\"]/input\"\"\").click()\n",
    "        \n",
    "        time.sleep(0.5)\n",
    "        \n",
    "        get_vote_info(n)\n",
    "        \n",
    "        time.sleep(0.5)\n",
    "    except:\n",
    "        print('---Error---')\n",
    "        fail_procedure(n)\n",
    "        \n",
    "election_result['pop'] = pop\n",
    "election_result['hannara'] = hannara\n",
    "election_result['minju'] = minju\n",
    "election_result['gita'] = gita\n",
    "election_result.head()"
   ]
  },
  {
   "cell_type": "code",
   "execution_count": null,
   "metadata": {},
   "outputs": [
    {
     "name": "stderr",
     "output_type": "stream",
     "text": [
      "c:\\users\\taehui lee\\anaconda3\\envs\\data_python\\lib\\site-packages\\ipykernel_launcher.py:3: TqdmDeprecationWarning: This function will be removed in tqdm==5.0.0\n",
      "Please use `tqdm.notebook.tqdm` instead of `tqdm.tqdm_notebook`\n",
      "  This is separate from the ipykernel package so we can avoid doing imports until\n"
     ]
    },
    {
     "data": {
      "application/vnd.jupyter.widget-view+json": {
       "model_id": "d47f0a9f10d74f58822656f994d3032e",
       "version_major": 2,
       "version_minor": 0
      },
      "text/plain": [
       "HBox(children=(FloatProgress(value=0.0, max=249.0), HTML(value='')))"
      ]
     },
     "metadata": {},
     "output_type": "display_data"
    },
    {
     "name": "stdout",
     "output_type": "stream",
     "text": [
      "---Error---\n",
      "---Error---\n",
      "---Error---\n",
      "---Error---\n",
      "---Error---\n",
      "---Error---\n",
      "---Error---\n"
     ]
    }
   ],
   "source": [
    "re_try_index = election_result[election_result['pop'].isnull()].index\n",
    "\n",
    "for n in tqdm_notebook(re_try_index):\n",
    "    try:\n",
    "        element = driver.find_element_by_id(\"cityCode\")\n",
    "        element.send_keys(election_result['광역시도'][n])\n",
    "        \n",
    "        time.sleep(0.5)\n",
    "        \n",
    "        element = driver.find_element_by_id(\"townCode\")\n",
    "        element.send_keys(election_result['시군'][n])\n",
    "        \n",
    "        driver.find_element_by_xpath(\"\"\"//*[@id=\"spanSubmit\"]/input\"\"\").click()\n",
    "        \n",
    "        time.sleep(0.5)\n",
    "        \n",
    "        get_vote_info(n)\n",
    "        \n",
    "        time.sleep(0.5)\n",
    "    except:\n",
    "        print('---Error---')\n",
    "        fail_procedure(n)\n",
    "\n",
    "election_result['pop'] = pop\n",
    "election_result['hannara'] = hannara\n",
    "election_result['minju'] = minju\n",
    "election_result['gita'] = gita\n",
    "election_result.head()"
   ]
  },
  {
   "cell_type": "code",
   "execution_count": null,
   "metadata": {},
   "outputs": [],
   "source": [
    "election_result['pop'] = pop\n",
    "election_result['hannara'] = hannara\n",
    "election_result['minju'] = minju\n",
    "election_result['gita'] = gita\n",
    "election_result.head()"
   ]
  },
  {
   "cell_type": "code",
   "execution_count": null,
   "metadata": {},
   "outputs": [],
   "source": [
    "re_try_index = election_result[election_result['pop'].isnull()].index\n",
    "\n",
    "for n in tqdm_notebook(election_result.index):\n",
    "    try:\n",
    "        element = driver.find_element_by_id(\"cityCode\")\n",
    "        element.send_keys(election_result['광역시도'][n])\n",
    "        \n",
    "        time.sleep(0.5)\n",
    "        \n",
    "        element = driver.find_element_by_id(\"townCode\")\n",
    "        element.send_keys(election_result['시군'][n])\n",
    "        \n",
    "        driver.find_element_by_xpath(\"\"\"//*[@id=\"spanSubmit\"]/input\"\"\").click()\n",
    "        \n",
    "        time.sleep(0.5)\n",
    "        \n",
    "        get_vote_info(n)\n",
    "        \n",
    "        time.sleep(0.5)\n",
    "    except:\n",
    "        print('---Error---')\n",
    "        fail_procedure(n)"
   ]
  },
  {
   "cell_type": "code",
   "execution_count": null,
   "metadata": {},
   "outputs": [],
   "source": []
  },
  {
   "cell_type": "code",
   "execution_count": null,
   "metadata": {},
   "outputs": [],
   "source": []
  },
  {
   "cell_type": "code",
   "execution_count": null,
   "metadata": {},
   "outputs": [],
   "source": []
  },
  {
   "cell_type": "code",
   "execution_count": null,
   "metadata": {},
   "outputs": [],
   "source": []
  },
  {
   "cell_type": "code",
   "execution_count": null,
   "metadata": {
    "scrolled": true
   },
   "outputs": [],
   "source": []
  },
  {
   "cell_type": "code",
   "execution_count": null,
   "metadata": {},
   "outputs": [],
   "source": []
  },
  {
   "cell_type": "code",
   "execution_count": 18,
   "metadata": {},
   "outputs": [],
   "source": []
  },
  {
   "cell_type": "code",
   "execution_count": 19,
   "metadata": {},
   "outputs": [],
   "source": []
  },
  {
   "cell_type": "code",
   "execution_count": 20,
   "metadata": {
    "scrolled": true
   },
   "outputs": [
    {
     "data": {
      "text/plain": [
       "[<td class=\"alignR\">77,812</td>,\n",
       " <td class=\"alignR\">35,476</td>,\n",
       " <td class=\"alignR\">36,910</td>]"
      ]
     },
     "execution_count": 20,
     "metadata": {},
     "output_type": "execute_result"
    }
   ],
   "source": []
  },
  {
   "cell_type": "code",
   "execution_count": 21,
   "metadata": {},
   "outputs": [
    {
     "name": "stderr",
     "output_type": "stream",
     "text": [
      "c:\\users\\taehui lee\\anaconda3\\envs\\data_python\\lib\\site-packages\\ipykernel_launcher.py:6: TqdmDeprecationWarning: This function will be removed in tqdm==5.0.0\n",
      "Please use `tqdm.notebook.tqdm` instead of `tqdm.tqdm_notebook`\n",
      "  \n"
     ]
    },
    {
     "data": {
      "application/vnd.jupyter.widget-view+json": {
       "model_id": "3f414acf3d334f05ad9e085328d1ff75",
       "version_major": 2,
       "version_minor": 0
      },
      "text/plain": [
       "HBox(children=(FloatProgress(value=0.0, max=16.0), HTML(value='')))"
      ]
     },
     "metadata": {},
     "output_type": "display_data"
    },
    {
     "name": "stdout",
     "output_type": "stream",
     "text": [
      "\n"
     ]
    }
   ],
   "source": []
  },
  {
   "cell_type": "code",
   "execution_count": 22,
   "metadata": {
    "scrolled": true
   },
   "outputs": [
    {
     "data": {
      "text/html": [
       "<div>\n",
       "<style scoped>\n",
       "    .dataframe tbody tr th:only-of-type {\n",
       "        vertical-align: middle;\n",
       "    }\n",
       "\n",
       "    .dataframe tbody tr th {\n",
       "        vertical-align: top;\n",
       "    }\n",
       "\n",
       "    .dataframe thead th {\n",
       "        text-align: right;\n",
       "    }\n",
       "</style>\n",
       "<table border=\"1\" class=\"dataframe\">\n",
       "  <thead>\n",
       "    <tr style=\"text-align: right;\">\n",
       "      <th></th>\n",
       "      <th>광역시도</th>\n",
       "      <th>시군</th>\n",
       "    </tr>\n",
       "  </thead>\n",
       "  <tbody>\n",
       "    <tr>\n",
       "      <th>0</th>\n",
       "      <td>서울특별시</td>\n",
       "      <td>종로구</td>\n",
       "    </tr>\n",
       "    <tr>\n",
       "      <th>1</th>\n",
       "      <td>서울특별시</td>\n",
       "      <td>중구</td>\n",
       "    </tr>\n",
       "    <tr>\n",
       "      <th>2</th>\n",
       "      <td>서울특별시</td>\n",
       "      <td>용산구</td>\n",
       "    </tr>\n",
       "    <tr>\n",
       "      <th>3</th>\n",
       "      <td>서울특별시</td>\n",
       "      <td>성동구</td>\n",
       "    </tr>\n",
       "    <tr>\n",
       "      <th>4</th>\n",
       "      <td>서울특별시</td>\n",
       "      <td>광진구</td>\n",
       "    </tr>\n",
       "    <tr>\n",
       "      <th>...</th>\n",
       "      <td>...</td>\n",
       "      <td>...</td>\n",
       "    </tr>\n",
       "    <tr>\n",
       "      <th>244</th>\n",
       "      <td>경상남도</td>\n",
       "      <td>산청군</td>\n",
       "    </tr>\n",
       "    <tr>\n",
       "      <th>245</th>\n",
       "      <td>경상남도</td>\n",
       "      <td>거창군</td>\n",
       "    </tr>\n",
       "    <tr>\n",
       "      <th>246</th>\n",
       "      <td>경상남도</td>\n",
       "      <td>합천군</td>\n",
       "    </tr>\n",
       "    <tr>\n",
       "      <th>247</th>\n",
       "      <td>제주특별자치도</td>\n",
       "      <td>제주시</td>\n",
       "    </tr>\n",
       "    <tr>\n",
       "      <th>248</th>\n",
       "      <td>제주특별자치도</td>\n",
       "      <td>서귀포시</td>\n",
       "    </tr>\n",
       "  </tbody>\n",
       "</table>\n",
       "<p>249 rows × 2 columns</p>\n",
       "</div>"
      ],
      "text/plain": [
       "        광역시도    시군\n",
       "0      서울특별시   종로구\n",
       "1      서울특별시    중구\n",
       "2      서울특별시   용산구\n",
       "3      서울특별시   성동구\n",
       "4      서울특별시   광진구\n",
       "..       ...   ...\n",
       "244     경상남도   산청군\n",
       "245     경상남도   거창군\n",
       "246     경상남도   합천군\n",
       "247  제주특별자치도   제주시\n",
       "248  제주특별자치도  서귀포시\n",
       "\n",
       "[249 rows x 2 columns]"
      ]
     },
     "execution_count": 22,
     "metadata": {},
     "output_type": "execute_result"
    }
   ],
   "source": []
  },
  {
   "cell_type": "code",
   "execution_count": 23,
   "metadata": {},
   "outputs": [],
   "source": []
  },
  {
   "cell_type": "code",
   "execution_count": 24,
   "metadata": {},
   "outputs": [],
   "source": []
  },
  {
   "cell_type": "code",
   "execution_count": 25,
   "metadata": {},
   "outputs": [
    {
     "data": {
      "text/plain": [
       "(249, 249, 249, 249)"
      ]
     },
     "execution_count": 25,
     "metadata": {},
     "output_type": "execute_result"
    }
   ],
   "source": []
  },
  {
   "cell_type": "code",
   "execution_count": 26,
   "metadata": {
    "scrolled": true
   },
   "outputs": [
    {
     "name": "stderr",
     "output_type": "stream",
     "text": [
      "c:\\users\\taehui lee\\anaconda3\\envs\\data_python\\lib\\site-packages\\ipykernel_launcher.py:1: TqdmDeprecationWarning: This function will be removed in tqdm==5.0.0\n",
      "Please use `tqdm.notebook.tqdm` instead of `tqdm.tqdm_notebook`\n",
      "  \"\"\"Entry point for launching an IPython kernel.\n"
     ]
    },
    {
     "data": {
      "application/vnd.jupyter.widget-view+json": {
       "model_id": "81076e51403f4a718ad1c8790fcad21a",
       "version_major": 2,
       "version_minor": 0
      },
      "text/plain": [
       "HBox(children=(FloatProgress(value=0.0, max=249.0), HTML(value='')))"
      ]
     },
     "metadata": {},
     "output_type": "display_data"
    },
    {
     "name": "stdout",
     "output_type": "stream",
     "text": [
      "---Error---\n",
      "---Error---\n",
      "---Error---\n",
      "---Error---\n",
      "---Error---\n",
      "---Error---\n",
      "---Error---\n",
      "---Error---\n",
      "---Error---\n",
      "---Error---\n",
      "---Error---\n",
      "---Error---\n",
      "---Error---\n",
      "---Error---\n",
      "---Error---\n",
      "---Error---\n",
      "---Error---\n",
      "---Error---\n",
      "---Error---\n",
      "---Error---\n",
      "---Error---\n",
      "---Error---\n",
      "---Error---\n",
      "---Error---\n",
      "---Error---\n",
      "---Error---\n",
      "---Error---\n",
      "---Error---\n",
      "---Error---\n",
      "---Error---\n",
      "---Error---\n",
      "---Error---\n",
      "---Error---\n",
      "---Error---\n",
      "---Error---\n",
      "---Error---\n",
      "---Error---\n",
      "---Error---\n",
      "---Error---\n",
      "---Error---\n",
      "---Error---\n",
      "---Error---\n",
      "---Error---\n",
      "---Error---\n",
      "---Error---\n",
      "---Error---\n",
      "---Error---\n",
      "---Error---\n",
      "---Error---\n",
      "---Error---\n",
      "---Error---\n",
      "---Error---\n",
      "---Error---\n",
      "---Error---\n",
      "---Error---\n",
      "---Error---\n",
      "---Error---\n",
      "---Error---\n",
      "---Error---\n",
      "---Error---\n",
      "---Error---\n",
      "---Error---\n",
      "---Error---\n",
      "---Error---\n",
      "---Error---\n",
      "---Error---\n",
      "---Error---\n",
      "---Error---\n",
      "---Error---\n",
      "---Error---\n",
      "---Error---\n",
      "---Error---\n",
      "---Error---\n",
      "---Error---\n",
      "---Error---\n",
      "---Error---\n",
      "---Error---\n",
      "---Error---\n",
      "---Error---\n",
      "---Error---\n",
      "---Error---\n",
      "---Error---\n",
      "---Error---\n",
      "---Error---\n",
      "---Error---\n",
      "---Error---\n",
      "---Error---\n",
      "---Error---\n",
      "---Error---\n",
      "---Error---\n",
      "---Error---\n",
      "---Error---\n",
      "---Error---\n",
      "---Error---\n",
      "---Error---\n",
      "---Error---\n",
      "---Error---\n",
      "---Error---\n",
      "---Error---\n",
      "---Error---\n",
      "---Error---\n",
      "---Error---\n",
      "---Error---\n",
      "---Error---\n",
      "---Error---\n",
      "---Error---\n",
      "---Error---\n",
      "---Error---\n",
      "---Error---\n",
      "---Error---\n",
      "---Error---\n",
      "---Error---\n",
      "---Error---\n",
      "---Error---\n",
      "---Error---\n",
      "---Error---\n",
      "---Error---\n",
      "---Error---\n",
      "---Error---\n",
      "---Error---\n",
      "---Error---\n",
      "---Error---\n",
      "---Error---\n",
      "---Error---\n",
      "---Error---\n",
      "---Error---\n",
      "---Error---\n",
      "---Error---\n",
      "---Error---\n",
      "---Error---\n",
      "---Error---\n",
      "---Error---\n",
      "---Error---\n",
      "---Error---\n",
      "---Error---\n",
      "---Error---\n",
      "---Error---\n",
      "---Error---\n",
      "---Error---\n",
      "---Error---\n",
      "---Error---\n",
      "---Error---\n",
      "---Error---\n",
      "---Error---\n",
      "---Error---\n",
      "---Error---\n",
      "---Error---\n",
      "---Error---\n",
      "---Error---\n",
      "---Error---\n",
      "---Error---\n",
      "---Error---\n",
      "---Error---\n",
      "---Error---\n",
      "---Error---\n",
      "---Error---\n",
      "---Error---\n",
      "---Error---\n",
      "---Error---\n",
      "---Error---\n",
      "---Error---\n",
      "---Error---\n",
      "---Error---\n",
      "---Error---\n",
      "---Error---\n",
      "---Error---\n",
      "---Error---\n",
      "---Error---\n",
      "---Error---\n",
      "---Error---\n",
      "---Error---\n",
      "---Error---\n",
      "---Error---\n",
      "---Error---\n",
      "---Error---\n",
      "---Error---\n",
      "---Error---\n",
      "---Error---\n",
      "---Error---\n",
      "---Error---\n",
      "\n"
     ]
    }
   ],
   "source": []
  },
  {
   "cell_type": "code",
   "execution_count": 27,
   "metadata": {},
   "outputs": [
    {
     "data": {
      "text/html": [
       "<div>\n",
       "<style scoped>\n",
       "    .dataframe tbody tr th:only-of-type {\n",
       "        vertical-align: middle;\n",
       "    }\n",
       "\n",
       "    .dataframe tbody tr th {\n",
       "        vertical-align: top;\n",
       "    }\n",
       "\n",
       "    .dataframe thead th {\n",
       "        text-align: right;\n",
       "    }\n",
       "</style>\n",
       "<table border=\"1\" class=\"dataframe\">\n",
       "  <thead>\n",
       "    <tr style=\"text-align: right;\">\n",
       "      <th></th>\n",
       "      <th>광역시도</th>\n",
       "      <th>시군</th>\n",
       "      <th>pop</th>\n",
       "      <th>hannara</th>\n",
       "      <th>minju</th>\n",
       "      <th>gita</th>\n",
       "    </tr>\n",
       "  </thead>\n",
       "  <tbody>\n",
       "    <tr>\n",
       "      <th>0</th>\n",
       "      <td>서울특별시</td>\n",
       "      <td>종로구</td>\n",
       "      <td>77812.0</td>\n",
       "      <td>35476.0</td>\n",
       "      <td>36910.0</td>\n",
       "      <td>5426.0</td>\n",
       "    </tr>\n",
       "    <tr>\n",
       "      <th>1</th>\n",
       "      <td>서울특별시</td>\n",
       "      <td>중구</td>\n",
       "      <td>60763.0</td>\n",
       "      <td>28648.0</td>\n",
       "      <td>28410.0</td>\n",
       "      <td>3705.0</td>\n",
       "    </tr>\n",
       "    <tr>\n",
       "      <th>2</th>\n",
       "      <td>서울특별시</td>\n",
       "      <td>용산구</td>\n",
       "      <td>105005.0</td>\n",
       "      <td>53285.0</td>\n",
       "      <td>44706.0</td>\n",
       "      <td>7014.0</td>\n",
       "    </tr>\n",
       "    <tr>\n",
       "      <th>3</th>\n",
       "      <td>서울특별시</td>\n",
       "      <td>성동구</td>\n",
       "      <td>135277.0</td>\n",
       "      <td>63448.0</td>\n",
       "      <td>63966.0</td>\n",
       "      <td>7863.0</td>\n",
       "    </tr>\n",
       "    <tr>\n",
       "      <th>4</th>\n",
       "      <td>서울특별시</td>\n",
       "      <td>광진구</td>\n",
       "      <td>158963.0</td>\n",
       "      <td>72749.0</td>\n",
       "      <td>76420.0</td>\n",
       "      <td>9794.0</td>\n",
       "    </tr>\n",
       "  </tbody>\n",
       "</table>\n",
       "</div>"
      ],
      "text/plain": [
       "    광역시도   시군       pop  hannara    minju    gita\n",
       "0  서울특별시  종로구   77812.0  35476.0  36910.0  5426.0\n",
       "1  서울특별시   중구   60763.0  28648.0  28410.0  3705.0\n",
       "2  서울특별시  용산구  105005.0  53285.0  44706.0  7014.0\n",
       "3  서울특별시  성동구  135277.0  63448.0  63966.0  7863.0\n",
       "4  서울특별시  광진구  158963.0  72749.0  76420.0  9794.0"
      ]
     },
     "execution_count": 27,
     "metadata": {},
     "output_type": "execute_result"
    }
   ],
   "source": [
    "election_result['pop'] = pop\n",
    "election_result['hannara'] = hannara\n",
    "election_result['minju'] = minju\n",
    "election_result['gita'] = gita\n",
    "election_result.head()"
   ]
  },
  {
   "cell_type": "code",
   "execution_count": null,
   "metadata": {
    "scrolled": true
   },
   "outputs": [
    {
     "name": "stderr",
     "output_type": "stream",
     "text": [
      "c:\\users\\taehui lee\\anaconda3\\envs\\data_python\\lib\\site-packages\\ipykernel_launcher.py:1: TqdmDeprecationWarning: This function will be removed in tqdm==5.0.0\n",
      "Please use `tqdm.notebook.tqdm` instead of `tqdm.tqdm_notebook`\n",
      "  \"\"\"Entry point for launching an IPython kernel.\n"
     ]
    },
    {
     "data": {
      "application/vnd.jupyter.widget-view+json": {
       "model_id": "e5ea3a7784f1424abc58ab6b6da25015",
       "version_major": 2,
       "version_minor": 0
      },
      "text/plain": [
       "HBox(children=(FloatProgress(value=0.0, max=249.0), HTML(value='')))"
      ]
     },
     "metadata": {},
     "output_type": "display_data"
    },
    {
     "name": "stdout",
     "output_type": "stream",
     "text": [
      "---Error---\n",
      "---Error---\n",
      "---Error---\n",
      "---Error---\n",
      "---Error---\n",
      "---Error---\n",
      "---Error---\n",
      "---Error---\n",
      "---Error---\n",
      "---Error---\n",
      "---Error---\n",
      "---Error---\n",
      "---Error---\n",
      "---Error---\n",
      "---Error---\n",
      "---Error---\n"
     ]
    }
   ],
   "source": [
    "for n in tqdm_notebook(election_result.index):\n",
    "    try:\n",
    "        element = driver.find_element_by_id(\"cityCode\")\n",
    "        element.send_keys(election_result['광역시도'][n])\n",
    "        \n",
    "        time.sleep(0.5)\n",
    "        \n",
    "        element = driver.find_element_by_id(\"townCode\")\n",
    "        element.send_keys(election_result['시군'][n])\n",
    "        \n",
    "        driver.find_element_by_xpath(\"\"\"//*[@id=\"spanSubmit\"]/input\"\"\").click()\n",
    "        \n",
    "        time.sleep(0.5)\n",
    "        \n",
    "        get_vote_info(n)\n",
    "        \n",
    "        time.sleep(0.5)\n",
    "    except:\n",
    "        print('---Error---')\n",
    "        fail_procedure(n)"
   ]
  },
  {
   "cell_type": "code",
   "execution_count": null,
   "metadata": {},
   "outputs": [],
   "source": [
    "election_result['pop'] = pop\n",
    "election_result['hannara'] = hannara\n",
    "election_result['minju'] = minju\n",
    "election_result['gita'] = gita\n",
    "election_result.head()"
   ]
  },
  {
   "cell_type": "code",
   "execution_count": null,
   "metadata": {
    "scrolled": true
   },
   "outputs": [],
   "source": [
    "for n in tqdm_notebook(election_result.index):\n",
    "    try:\n",
    "        element = driver.find_element_by_id(\"cityCode\")\n",
    "        element.send_keys(election_result['광역시도'][n])\n",
    "        \n",
    "        time.sleep(0.5)\n",
    "        \n",
    "        element = driver.find_element_by_id(\"townCode\")\n",
    "        element.send_keys(election_result['시군'][n])\n",
    "        \n",
    "        driver.find_element_by_xpath(\"\"\"//*[@id=\"spanSubmit\"]/input\"\"\").click()\n",
    "        \n",
    "        time.sleep(0.5)\n",
    "        \n",
    "        get_vote_info(n)\n",
    "        \n",
    "        time.sleep(0.5)\n",
    "    except:\n",
    "        print('---Error---')\n",
    "        fail_procedure(n)"
   ]
  },
  {
   "cell_type": "code",
   "execution_count": null,
   "metadata": {},
   "outputs": [],
   "source": [
    "election_result['pop'] = pop\n",
    "election_result['hannara'] = hannara\n",
    "election_result['minju'] = minju\n",
    "election_result['gita'] = gita\n",
    "election_result.head()"
   ]
  },
  {
   "cell_type": "code",
   "execution_count": null,
   "metadata": {},
   "outputs": [],
   "source": [
    "for n in tqdm_notebook(election_result.index):\n",
    "    try:\n",
    "        element = driver.find_element_by_id(\"cityCode\")\n",
    "        element.send_keys(election_result['광역시도'][n])\n",
    "        \n",
    "        time.sleep(0.5)\n",
    "        \n",
    "        element = driver.find_element_by_id(\"townCode\")\n",
    "        element.send_keys(election_result['시군'][n])\n",
    "        \n",
    "        driver.find_element_by_xpath(\"\"\"//*[@id=\"spanSubmit\"]/input\"\"\").click()\n",
    "        \n",
    "        time.sleep(0.5)\n",
    "        \n",
    "        get_vote_info(n)\n",
    "        \n",
    "        time.sleep(0.5)\n",
    "    except:\n",
    "        print('---Error---')\n",
    "        fail_procedure(n)"
   ]
  },
  {
   "cell_type": "code",
   "execution_count": null,
   "metadata": {
    "scrolled": true
   },
   "outputs": [],
   "source": []
  },
  {
   "cell_type": "code",
   "execution_count": null,
   "metadata": {},
   "outputs": [],
   "source": [
    "election_result['pop'] = pop\n",
    "election_result['hannara'] = hannara\n",
    "election_result['minju'] = minju\n",
    "election_result['gita'] = gita\n",
    "election_result.head()"
   ]
  },
  {
   "cell_type": "code",
   "execution_count": null,
   "metadata": {},
   "outputs": [],
   "source": [
    "for n in tqdm_notebook(election_result.index):\n",
    "    try:\n",
    "        element = driver.find_element_by_id(\"cityCode\")\n",
    "        element.send_keys(election_result['광역시도'][n])\n",
    "        \n",
    "        time.sleep(0.5)\n",
    "        \n",
    "        element = driver.find_element_by_id(\"townCode\")\n",
    "        element.send_keys(election_result['시군'][n])\n",
    "        \n",
    "        driver.find_element_by_xpath(\"\"\"//*[@id=\"spanSubmit\"]/input\"\"\").click()\n",
    "        \n",
    "        time.sleep(0.5)\n",
    "        \n",
    "        get_vote_info(n)\n",
    "        \n",
    "        time.sleep(0.5)\n",
    "    except:\n",
    "        print('---Error---')\n",
    "        fail_procedure(n)"
   ]
  },
  {
   "cell_type": "code",
   "execution_count": null,
   "metadata": {},
   "outputs": [],
   "source": [
    "election_result['pop'] = pop\n",
    "election_result['hannara'] = hannara\n",
    "election_result['minju'] = minju\n",
    "election_result['gita'] = gita\n",
    "election_result.head()"
   ]
  },
  {
   "cell_type": "code",
   "execution_count": null,
   "metadata": {},
   "outputs": [],
   "source": [
    "for n in tqdm_notebook(election_result.index):\n",
    "    try:\n",
    "        element = driver.find_element_by_id(\"cityCode\")\n",
    "        element.send_keys(election_result['광역시도'][n])\n",
    "        \n",
    "        time.sleep(0.5)\n",
    "        \n",
    "        element = driver.find_element_by_id(\"townCode\")\n",
    "        element.send_keys(election_result['시군'][n])\n",
    "        \n",
    "        driver.find_element_by_xpath(\"\"\"//*[@id=\"spanSubmit\"]/input\"\"\").click()\n",
    "        \n",
    "        time.sleep(0.5)\n",
    "        \n",
    "        get_vote_info(n)\n",
    "        \n",
    "        time.sleep(0.5)\n",
    "    except:\n",
    "        print('---Error---')\n",
    "        fail_procedure(n)"
   ]
  },
  {
   "cell_type": "code",
   "execution_count": null,
   "metadata": {},
   "outputs": [],
   "source": [
    "election_result['pop'] = pop\n",
    "election_result['hannara'] = hannara\n",
    "election_result['minju'] = minju\n",
    "election_result['gita'] = gita\n",
    "election_result.head()"
   ]
  },
  {
   "cell_type": "code",
   "execution_count": null,
   "metadata": {},
   "outputs": [],
   "source": [
    "for n in tqdm_notebook(election_result.index):\n",
    "    try:\n",
    "        element = driver.find_element_by_id(\"cityCode\")\n",
    "        element.send_keys(election_result['광역시도'][n])\n",
    "        \n",
    "        time.sleep(0.5)\n",
    "        \n",
    "        element = driver.find_element_by_id(\"townCode\")\n",
    "        element.send_keys(election_result['시군'][n])\n",
    "        \n",
    "        driver.find_element_by_xpath(\"\"\"//*[@id=\"spanSubmit\"]/input\"\"\").click()\n",
    "        \n",
    "        time.sleep(0.5)\n",
    "        \n",
    "        get_vote_info(n)\n",
    "        \n",
    "        time.sleep(0.5)\n",
    "    except:\n",
    "        print('---Error---')\n",
    "        fail_procedure(n)"
   ]
  },
  {
   "cell_type": "code",
   "execution_count": null,
   "metadata": {},
   "outputs": [],
   "source": [
    "election_result['pop'] = pop\n",
    "election_result['hannara'] = hannara\n",
    "election_result['minju'] = minju\n",
    "election_result['gita'] = gita\n",
    "election_result.head()"
   ]
  },
  {
   "cell_type": "code",
   "execution_count": null,
   "metadata": {},
   "outputs": [],
   "source": []
  },
  {
   "cell_type": "code",
   "execution_count": null,
   "metadata": {},
   "outputs": [],
   "source": [
    "election_result.to_csv('./round07_election_result.csv', encoding='utf-8',  sep=',')"
   ]
  },
  {
   "cell_type": "code",
   "execution_count": null,
   "metadata": {},
   "outputs": [],
   "source": []
  }
 ],
 "metadata": {
  "kernelspec": {
   "display_name": "Python 3",
   "language": "python",
   "name": "python3"
  },
  "language_info": {
   "codemirror_mode": {
    "name": "ipython",
    "version": 3
   },
   "file_extension": ".py",
   "mimetype": "text/x-python",
   "name": "python",
   "nbconvert_exporter": "python",
   "pygments_lexer": "ipython3",
   "version": "3.6.10"
  }
 },
 "nbformat": 4,
 "nbformat_minor": 4
}
